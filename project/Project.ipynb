{
 "cells": [
  {
   "cell_type": "code",
   "execution_count": 3,
   "id": "7b1c8857-b2b5-457e-98c4-4f615cad5675",
   "metadata": {},
   "outputs": [
    {
     "data": {
      "text/html": [
       "<div>\n",
       "<style scoped>\n",
       "    .dataframe tbody tr th:only-of-type {\n",
       "        vertical-align: middle;\n",
       "    }\n",
       "\n",
       "    .dataframe tbody tr th {\n",
       "        vertical-align: top;\n",
       "    }\n",
       "\n",
       "    .dataframe thead th {\n",
       "        text-align: right;\n",
       "    }\n",
       "</style>\n",
       "<table border=\"1\" class=\"dataframe\">\n",
       "  <thead>\n",
       "    <tr style=\"text-align: right;\">\n",
       "      <th></th>\n",
       "      <th>department</th>\n",
       "      <th>promoted</th>\n",
       "      <th>review</th>\n",
       "      <th>projects</th>\n",
       "      <th>salary</th>\n",
       "      <th>tenure</th>\n",
       "      <th>satisfaction</th>\n",
       "      <th>bonus</th>\n",
       "      <th>avg_hrs_month</th>\n",
       "      <th>left</th>\n",
       "    </tr>\n",
       "  </thead>\n",
       "  <tbody>\n",
       "    <tr>\n",
       "      <th>0</th>\n",
       "      <td>operations</td>\n",
       "      <td>0</td>\n",
       "      <td>0.577569</td>\n",
       "      <td>3</td>\n",
       "      <td>low</td>\n",
       "      <td>5.0</td>\n",
       "      <td>0.626759</td>\n",
       "      <td>0</td>\n",
       "      <td>180.866070</td>\n",
       "      <td>no</td>\n",
       "    </tr>\n",
       "    <tr>\n",
       "      <th>1</th>\n",
       "      <td>operations</td>\n",
       "      <td>0</td>\n",
       "      <td>0.751900</td>\n",
       "      <td>3</td>\n",
       "      <td>medium</td>\n",
       "      <td>6.0</td>\n",
       "      <td>0.443679</td>\n",
       "      <td>0</td>\n",
       "      <td>182.708149</td>\n",
       "      <td>no</td>\n",
       "    </tr>\n",
       "    <tr>\n",
       "      <th>2</th>\n",
       "      <td>support</td>\n",
       "      <td>0</td>\n",
       "      <td>0.722548</td>\n",
       "      <td>3</td>\n",
       "      <td>medium</td>\n",
       "      <td>6.0</td>\n",
       "      <td>0.446823</td>\n",
       "      <td>0</td>\n",
       "      <td>184.416084</td>\n",
       "      <td>no</td>\n",
       "    </tr>\n",
       "    <tr>\n",
       "      <th>3</th>\n",
       "      <td>logistics</td>\n",
       "      <td>0</td>\n",
       "      <td>0.675158</td>\n",
       "      <td>4</td>\n",
       "      <td>high</td>\n",
       "      <td>8.0</td>\n",
       "      <td>0.440139</td>\n",
       "      <td>0</td>\n",
       "      <td>188.707545</td>\n",
       "      <td>no</td>\n",
       "    </tr>\n",
       "    <tr>\n",
       "      <th>4</th>\n",
       "      <td>sales</td>\n",
       "      <td>0</td>\n",
       "      <td>0.676203</td>\n",
       "      <td>3</td>\n",
       "      <td>high</td>\n",
       "      <td>5.0</td>\n",
       "      <td>0.577607</td>\n",
       "      <td>1</td>\n",
       "      <td>179.821083</td>\n",
       "      <td>no</td>\n",
       "    </tr>\n",
       "    <tr>\n",
       "      <th>...</th>\n",
       "      <td>...</td>\n",
       "      <td>...</td>\n",
       "      <td>...</td>\n",
       "      <td>...</td>\n",
       "      <td>...</td>\n",
       "      <td>...</td>\n",
       "      <td>...</td>\n",
       "      <td>...</td>\n",
       "      <td>...</td>\n",
       "      <td>...</td>\n",
       "    </tr>\n",
       "    <tr>\n",
       "      <th>9535</th>\n",
       "      <td>operations</td>\n",
       "      <td>0</td>\n",
       "      <td>0.610988</td>\n",
       "      <td>4</td>\n",
       "      <td>medium</td>\n",
       "      <td>8.0</td>\n",
       "      <td>0.543641</td>\n",
       "      <td>0</td>\n",
       "      <td>188.155738</td>\n",
       "      <td>yes</td>\n",
       "    </tr>\n",
       "    <tr>\n",
       "      <th>9536</th>\n",
       "      <td>logistics</td>\n",
       "      <td>0</td>\n",
       "      <td>0.746887</td>\n",
       "      <td>3</td>\n",
       "      <td>medium</td>\n",
       "      <td>8.0</td>\n",
       "      <td>0.549048</td>\n",
       "      <td>0</td>\n",
       "      <td>188.176164</td>\n",
       "      <td>yes</td>\n",
       "    </tr>\n",
       "    <tr>\n",
       "      <th>9537</th>\n",
       "      <td>operations</td>\n",
       "      <td>0</td>\n",
       "      <td>0.557980</td>\n",
       "      <td>3</td>\n",
       "      <td>low</td>\n",
       "      <td>7.0</td>\n",
       "      <td>0.705425</td>\n",
       "      <td>0</td>\n",
       "      <td>186.531008</td>\n",
       "      <td>yes</td>\n",
       "    </tr>\n",
       "    <tr>\n",
       "      <th>9538</th>\n",
       "      <td>IT</td>\n",
       "      <td>0</td>\n",
       "      <td>0.584446</td>\n",
       "      <td>4</td>\n",
       "      <td>medium</td>\n",
       "      <td>8.0</td>\n",
       "      <td>0.607287</td>\n",
       "      <td>1</td>\n",
       "      <td>187.641370</td>\n",
       "      <td>yes</td>\n",
       "    </tr>\n",
       "    <tr>\n",
       "      <th>9539</th>\n",
       "      <td>finance</td>\n",
       "      <td>0</td>\n",
       "      <td>0.626373</td>\n",
       "      <td>3</td>\n",
       "      <td>low</td>\n",
       "      <td>7.0</td>\n",
       "      <td>0.706455</td>\n",
       "      <td>1</td>\n",
       "      <td>185.920934</td>\n",
       "      <td>yes</td>\n",
       "    </tr>\n",
       "  </tbody>\n",
       "</table>\n",
       "<p>9540 rows × 10 columns</p>\n",
       "</div>"
      ],
      "text/plain": [
       "      department  promoted    review  projects  salary  tenure  satisfaction  \\\n",
       "0     operations         0  0.577569         3     low     5.0      0.626759   \n",
       "1     operations         0  0.751900         3  medium     6.0      0.443679   \n",
       "2        support         0  0.722548         3  medium     6.0      0.446823   \n",
       "3      logistics         0  0.675158         4    high     8.0      0.440139   \n",
       "4          sales         0  0.676203         3    high     5.0      0.577607   \n",
       "...          ...       ...       ...       ...     ...     ...           ...   \n",
       "9535  operations         0  0.610988         4  medium     8.0      0.543641   \n",
       "9536   logistics         0  0.746887         3  medium     8.0      0.549048   \n",
       "9537  operations         0  0.557980         3     low     7.0      0.705425   \n",
       "9538          IT         0  0.584446         4  medium     8.0      0.607287   \n",
       "9539     finance         0  0.626373         3     low     7.0      0.706455   \n",
       "\n",
       "      bonus  avg_hrs_month left  \n",
       "0         0     180.866070   no  \n",
       "1         0     182.708149   no  \n",
       "2         0     184.416084   no  \n",
       "3         0     188.707545   no  \n",
       "4         1     179.821083   no  \n",
       "...     ...            ...  ...  \n",
       "9535      0     188.155738  yes  \n",
       "9536      0     188.176164  yes  \n",
       "9537      0     186.531008  yes  \n",
       "9538      1     187.641370  yes  \n",
       "9539      1     185.920934  yes  \n",
       "\n",
       "[9540 rows x 10 columns]"
      ]
     },
     "execution_count": 3,
     "metadata": {},
     "output_type": "execute_result"
    }
   ],
   "source": [
    "import pandas as pd\n",
    "df = pd.read_csv('employee_churn_data.csv')\n",
    "df.head(9540)"
   ]
  },
  {
   "cell_type": "code",
   "execution_count": 2,
   "id": "ab4e941d-5c59-4395-94cf-06c1f97ecea7",
   "metadata": {},
   "outputs": [
    {
     "data": {
      "text/plain": [
       "department       0\n",
       "promoted         0\n",
       "review           0\n",
       "projects         0\n",
       "salary           0\n",
       "tenure           0\n",
       "satisfaction     0\n",
       "bonus            0\n",
       "avg_hrs_month    0\n",
       "left             0\n",
       "dtype: int64"
      ]
     },
     "execution_count": 2,
     "metadata": {},
     "output_type": "execute_result"
    }
   ],
   "source": [
    "#Pre-processing data\n",
    "\n",
    "#Check missing data\n",
    "\n",
    "df.isnull().sum() #no missing values"
   ]
  },
  {
   "cell_type": "code",
   "execution_count": 4,
   "id": "33a7e00e-8522-495c-97f1-76aea8ab6651",
   "metadata": {},
   "outputs": [
    {
     "name": "stdout",
     "output_type": "stream",
     "text": [
      "<class 'pandas.core.frame.DataFrame'>\n",
      "RangeIndex: 9540 entries, 0 to 9539\n",
      "Data columns (total 10 columns):\n",
      " #   Column         Non-Null Count  Dtype  \n",
      "---  ------         --------------  -----  \n",
      " 0   department     9540 non-null   object \n",
      " 1   promoted       9540 non-null   int64  \n",
      " 2   review         9540 non-null   float64\n",
      " 3   projects       9540 non-null   int64  \n",
      " 4   salary         9540 non-null   object \n",
      " 5   tenure         9540 non-null   float64\n",
      " 6   satisfaction   9540 non-null   float64\n",
      " 7   bonus          9540 non-null   int64  \n",
      " 8   avg_hrs_month  9540 non-null   float64\n",
      " 9   left           9540 non-null   object \n",
      "dtypes: float64(4), int64(3), object(3)\n",
      "memory usage: 745.4+ KB\n"
     ]
    }
   ],
   "source": [
    "#Check missing data\n",
    "\n",
    "df.info() #no missing values"
   ]
  },
  {
   "cell_type": "code",
   "execution_count": 5,
   "id": "b23fc7f7-cbcd-49ea-9f42-d7b7d179b848",
   "metadata": {},
   "outputs": [
    {
     "data": {
      "text/plain": [
       "6756"
      ]
     },
     "execution_count": 5,
     "metadata": {},
     "output_type": "execute_result"
    }
   ],
   "source": [
    "sum(df['left']=='no')"
   ]
  },
  {
   "cell_type": "code",
   "execution_count": 6,
   "id": "04f5f179-3527-447c-a2a6-ef5902265d5b",
   "metadata": {},
   "outputs": [
    {
     "data": {
      "text/plain": [
       "2784"
      ]
     },
     "execution_count": 6,
     "metadata": {},
     "output_type": "execute_result"
    }
   ],
   "source": [
    "sum(df['left']=='yes')"
   ]
  },
  {
   "cell_type": "code",
   "execution_count": 8,
   "id": "c527a149-e947-4224-9f11-99b8934051e4",
   "metadata": {},
   "outputs": [
    {
     "data": {
      "text/plain": [
       "0.2918238993710692"
      ]
     },
     "execution_count": 8,
     "metadata": {},
     "output_type": "execute_result"
    }
   ],
   "source": [
    "sum(df['left']=='yes')/(sum(df['left']=='yes')+sum(df['left']=='no'))"
   ]
  },
  {
   "cell_type": "code",
   "execution_count": null,
   "id": "4609bf1f-ee75-4081-b8c3-fde4b886bdc6",
   "metadata": {},
   "outputs": [],
   "source": [
    "#training data\n",
    "\n",
    "#Downsampling (data preprocessing)"
   ]
  },
  {
   "cell_type": "code",
   "execution_count": 4,
   "id": "fa026ecc-6d9b-4675-96f1-885b1c5bc3a8",
   "metadata": {},
   "outputs": [],
   "source": [
    "import matplotlib.pyplot as plt\n",
    "import numpy as np\n",
    "import seaborn as sns"
   ]
  },
  {
   "cell_type": "markdown",
   "id": "542815d3-404b-497f-a264-e5edb10b5007",
   "metadata": {},
   "source": [
    "**Basic data exploration and preprocessing**\n",
    "\n",
    "Preprocessing"
   ]
  },
  {
   "cell_type": "code",
   "execution_count": 6,
   "id": "16277565-a16b-490a-8720-cebde3c489b8",
   "metadata": {},
   "outputs": [],
   "source": [
    "# the original df is still going to be useful later, \n",
    "#so I make another copy of the df for other purposes like calculating correlation and modelling\n",
    "df_proc = df.copy() \n",
    "\n",
    "#encoding the categorical data\n",
    "dept_map = {\"IT\":1, 'logistics':2, 'retail':3, 'marketing':4, 'support':5, \n",
    "            'engineering':6, 'operations':7, 'sales':8, 'admin':9, 'finance':10}\n",
    "\n",
    "df_proc.department = df_proc.department.map(dept_map)\n",
    "df_proc.salary = df_proc.salary.map({'low':1, 'medium':2, 'high':3})\n",
    "df_proc.left = df_proc.left.map({'no':0, 'yes':1})"
   ]
  },
  {
   "cell_type": "markdown",
   "id": "dba47d0f-25e8-4234-9f53-dcb45daee987",
   "metadata": {},
   "source": [
    "**The department with the highest and the lowest turnover rate**\n",
    "\n",
    "The turnover rate of the company as a whole is around 30 percent. The bar chart below is to show the turnover rate for each department."
   ]
  },
  {
   "cell_type": "code",
   "execution_count": 12,
   "id": "ec3f9ab0-4f3f-4bcd-b05a-a336e99d7630",
   "metadata": {},
   "outputs": [
    {
     "data": {
      "image/png": "[encoded data removed]",
      "text/plain": [
       "<Figure size 432x288 with 1 Axes>"
      ]
     },
     "metadata": {
      "needs_background": "light"
     },
     "output_type": "display_data"
    }
   ],
   "source": [
    "plt.bar(['no', 'yes'], df.left.value_counts()/df.shape[0], color='pink')\n",
    "plt.title(\"The percentage of total employees who stay ('no') \\n and who resign ('yes')\");"
   ]
  },
  {
   "cell_type": "code",
   "execution_count": null,
   "id": "a1e14c7e-700c-4fdd-863f-5b4ea4941afc",
   "metadata": {},
   "outputs": [],
   "source": []
  }
 ],
 "metadata": {
  "kernelspec": {
   "display_name": "Python 3 (ipykernel)",
   "language": "python",
   "name": "python3"
  },
  "language_info": {
   "codemirror_mode": {
    "name": "ipython",
    "version": 3
   },
   "file_extension": ".py",
   "mimetype": "text/x-python",
   "name": "python",
   "nbconvert_exporter": "python",
   "pygments_lexer": "ipython3",
   "version": "3.9.7"
  }
 },
 "nbformat": 4,
 "nbformat_minor": 5
}
