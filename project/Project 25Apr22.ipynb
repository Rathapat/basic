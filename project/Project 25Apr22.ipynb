{
 "cells": [
  {
   "cell_type": "markdown",
   "id": "7d000ae0-9dff-4d35-8bf1-c6cd6e62c2e1",
   "metadata": {},
   "source": [
    "https://app.datacamp.com/workspace/w/027a10e4-6a0a-4312-9b34-2c1f7c9f24ab#turnover-summary"
   ]
  },
  {
   "cell_type": "code",
   "execution_count": 1,
   "id": "c62c455a-a1f0-4b18-83e8-e8f04de93773",
   "metadata": {},
   "outputs": [
    {
     "data": {
      "text/html": [
       "<div>\n",
       "<style scoped>\n",
       "    .dataframe tbody tr th:only-of-type {\n",
       "        vertical-align: middle;\n",
       "    }\n",
       "\n",
       "    .dataframe tbody tr th {\n",
       "        vertical-align: top;\n",
       "    }\n",
       "\n",
       "    .dataframe thead th {\n",
       "        text-align: right;\n",
       "    }\n",
       "</style>\n",
       "<table border=\"1\" class=\"dataframe\">\n",
       "  <thead>\n",
       "    <tr style=\"text-align: right;\">\n",
       "      <th></th>\n",
       "      <th>department</th>\n",
       "      <th>promoted</th>\n",
       "      <th>review</th>\n",
       "      <th>projects</th>\n",
       "      <th>salary</th>\n",
       "      <th>tenure</th>\n",
       "      <th>satisfaction</th>\n",
       "      <th>bonus</th>\n",
       "      <th>avg_hrs_month</th>\n",
       "      <th>left</th>\n",
       "    </tr>\n",
       "  </thead>\n",
       "  <tbody>\n",
       "    <tr>\n",
       "      <th>0</th>\n",
       "      <td>operations</td>\n",
       "      <td>0</td>\n",
       "      <td>0.577569</td>\n",
       "      <td>3</td>\n",
       "      <td>low</td>\n",
       "      <td>5.0</td>\n",
       "      <td>0.626759</td>\n",
       "      <td>0</td>\n",
       "      <td>180.866070</td>\n",
       "      <td>no</td>\n",
       "    </tr>\n",
       "    <tr>\n",
       "      <th>1</th>\n",
       "      <td>operations</td>\n",
       "      <td>0</td>\n",
       "      <td>0.751900</td>\n",
       "      <td>3</td>\n",
       "      <td>medium</td>\n",
       "      <td>6.0</td>\n",
       "      <td>0.443679</td>\n",
       "      <td>0</td>\n",
       "      <td>182.708149</td>\n",
       "      <td>no</td>\n",
       "    </tr>\n",
       "    <tr>\n",
       "      <th>2</th>\n",
       "      <td>support</td>\n",
       "      <td>0</td>\n",
       "      <td>0.722548</td>\n",
       "      <td>3</td>\n",
       "      <td>medium</td>\n",
       "      <td>6.0</td>\n",
       "      <td>0.446823</td>\n",
       "      <td>0</td>\n",
       "      <td>184.416084</td>\n",
       "      <td>no</td>\n",
       "    </tr>\n",
       "    <tr>\n",
       "      <th>3</th>\n",
       "      <td>logistics</td>\n",
       "      <td>0</td>\n",
       "      <td>0.675158</td>\n",
       "      <td>4</td>\n",
       "      <td>high</td>\n",
       "      <td>8.0</td>\n",
       "      <td>0.440139</td>\n",
       "      <td>0</td>\n",
       "      <td>188.707545</td>\n",
       "      <td>no</td>\n",
       "    </tr>\n",
       "    <tr>\n",
       "      <th>4</th>\n",
       "      <td>sales</td>\n",
       "      <td>0</td>\n",
       "      <td>0.676203</td>\n",
       "      <td>3</td>\n",
       "      <td>high</td>\n",
       "      <td>5.0</td>\n",
       "      <td>0.577607</td>\n",
       "      <td>1</td>\n",
       "      <td>179.821083</td>\n",
       "      <td>no</td>\n",
       "    </tr>\n",
       "    <tr>\n",
       "      <th>...</th>\n",
       "      <td>...</td>\n",
       "      <td>...</td>\n",
       "      <td>...</td>\n",
       "      <td>...</td>\n",
       "      <td>...</td>\n",
       "      <td>...</td>\n",
       "      <td>...</td>\n",
       "      <td>...</td>\n",
       "      <td>...</td>\n",
       "      <td>...</td>\n",
       "    </tr>\n",
       "    <tr>\n",
       "      <th>9535</th>\n",
       "      <td>operations</td>\n",
       "      <td>0</td>\n",
       "      <td>0.610988</td>\n",
       "      <td>4</td>\n",
       "      <td>medium</td>\n",
       "      <td>8.0</td>\n",
       "      <td>0.543641</td>\n",
       "      <td>0</td>\n",
       "      <td>188.155738</td>\n",
       "      <td>yes</td>\n",
       "    </tr>\n",
       "    <tr>\n",
       "      <th>9536</th>\n",
       "      <td>logistics</td>\n",
       "      <td>0</td>\n",
       "      <td>0.746887</td>\n",
       "      <td>3</td>\n",
       "      <td>medium</td>\n",
       "      <td>8.0</td>\n",
       "      <td>0.549048</td>\n",
       "      <td>0</td>\n",
       "      <td>188.176164</td>\n",
       "      <td>yes</td>\n",
       "    </tr>\n",
       "    <tr>\n",
       "      <th>9537</th>\n",
       "      <td>operations</td>\n",
       "      <td>0</td>\n",
       "      <td>0.557980</td>\n",
       "      <td>3</td>\n",
       "      <td>low</td>\n",
       "      <td>7.0</td>\n",
       "      <td>0.705425</td>\n",
       "      <td>0</td>\n",
       "      <td>186.531008</td>\n",
       "      <td>yes</td>\n",
       "    </tr>\n",
       "    <tr>\n",
       "      <th>9538</th>\n",
       "      <td>IT</td>\n",
       "      <td>0</td>\n",
       "      <td>0.584446</td>\n",
       "      <td>4</td>\n",
       "      <td>medium</td>\n",
       "      <td>8.0</td>\n",
       "      <td>0.607287</td>\n",
       "      <td>1</td>\n",
       "      <td>187.641370</td>\n",
       "      <td>yes</td>\n",
       "    </tr>\n",
       "    <tr>\n",
       "      <th>9539</th>\n",
       "      <td>finance</td>\n",
       "      <td>0</td>\n",
       "      <td>0.626373</td>\n",
       "      <td>3</td>\n",
       "      <td>low</td>\n",
       "      <td>7.0</td>\n",
       "      <td>0.706455</td>\n",
       "      <td>1</td>\n",
       "      <td>185.920934</td>\n",
       "      <td>yes</td>\n",
       "    </tr>\n",
       "  </tbody>\n",
       "</table>\n",
       "<p>9540 rows × 10 columns</p>\n",
       "</div>"
      ],
      "text/plain": [
       "      department  promoted    review  projects  salary  tenure  satisfaction  \\\n",
       "0     operations         0  0.577569         3     low     5.0      0.626759   \n",
       "1     operations         0  0.751900         3  medium     6.0      0.443679   \n",
       "2        support         0  0.722548         3  medium     6.0      0.446823   \n",
       "3      logistics         0  0.675158         4    high     8.0      0.440139   \n",
       "4          sales         0  0.676203         3    high     5.0      0.577607   \n",
       "...          ...       ...       ...       ...     ...     ...           ...   \n",
       "9535  operations         0  0.610988         4  medium     8.0      0.543641   \n",
       "9536   logistics         0  0.746887         3  medium     8.0      0.549048   \n",
       "9537  operations         0  0.557980         3     low     7.0      0.705425   \n",
       "9538          IT         0  0.584446         4  medium     8.0      0.607287   \n",
       "9539     finance         0  0.626373         3     low     7.0      0.706455   \n",
       "\n",
       "      bonus  avg_hrs_month left  \n",
       "0         0     180.866070   no  \n",
       "1         0     182.708149   no  \n",
       "2         0     184.416084   no  \n",
       "3         0     188.707545   no  \n",
       "4         1     179.821083   no  \n",
       "...     ...            ...  ...  \n",
       "9535      0     188.155738  yes  \n",
       "9536      0     188.176164  yes  \n",
       "9537      0     186.531008  yes  \n",
       "9538      1     187.641370  yes  \n",
       "9539      1     185.920934  yes  \n",
       "\n",
       "[9540 rows x 10 columns]"
      ]
     },
     "execution_count": 1,
     "metadata": {},
     "output_type": "execute_result"
    }
   ],
   "source": [
    "import numpy as np\n",
    "import pandas as pd\n",
    "import matplotlib.pyplot as plt\n",
    "import seaborn as sns\n",
    "\n",
    "# Read in the data\n",
    "df = pd.read_csv('employee_churn_data.csv')\n",
    "df.head(9540)"
   ]
  },
  {
   "cell_type": "code",
   "execution_count": 2,
   "id": "9a365b30-bef7-4c7c-b58a-1eadc04242e7",
   "metadata": {},
   "outputs": [],
   "source": [
    "data = df.copy()"
   ]
  },
  {
   "cell_type": "markdown",
   "id": "521dbe33-068e-4a65-9bbe-e420b5d4d572",
   "metadata": {},
   "source": [
    "***Exploratory Data Analysis (EDA)***"
   ]
  },
  {
   "cell_type": "code",
   "execution_count": 3,
   "id": "1b3ce387-d3bc-4ccb-8011-0ba17fed3c18",
   "metadata": {},
   "outputs": [
    {
     "name": "stdout",
     "output_type": "stream",
     "text": [
      "<class 'pandas.core.frame.DataFrame'>\n",
      "RangeIndex: 9540 entries, 0 to 9539\n",
      "Data columns (total 10 columns):\n",
      " #   Column         Non-Null Count  Dtype  \n",
      "---  ------         --------------  -----  \n",
      " 0   department     9540 non-null   object \n",
      " 1   promoted       9540 non-null   int64  \n",
      " 2   review         9540 non-null   float64\n",
      " 3   projects       9540 non-null   int64  \n",
      " 4   salary         9540 non-null   object \n",
      " 5   tenure         9540 non-null   float64\n",
      " 6   satisfaction   9540 non-null   float64\n",
      " 7   bonus          9540 non-null   int64  \n",
      " 8   avg_hrs_month  9540 non-null   float64\n",
      " 9   left           9540 non-null   object \n",
      "dtypes: float64(4), int64(3), object(3)\n",
      "memory usage: 745.4+ KB\n"
     ]
    }
   ],
   "source": [
    "#Check missing data\n",
    "df.info() #no missing values"
   ]
  },
  {
   "cell_type": "code",
   "execution_count": 4,
   "id": "c654b7e6-088e-4f4a-b072-7a0d9f31a367",
   "metadata": {},
   "outputs": [
    {
     "data": {
      "text/html": [
       "<div>\n",
       "<style scoped>\n",
       "    .dataframe tbody tr th:only-of-type {\n",
       "        vertical-align: middle;\n",
       "    }\n",
       "\n",
       "    .dataframe tbody tr th {\n",
       "        vertical-align: top;\n",
       "    }\n",
       "\n",
       "    .dataframe thead th {\n",
       "        text-align: right;\n",
       "    }\n",
       "</style>\n",
       "<table border=\"1\" class=\"dataframe\">\n",
       "  <thead>\n",
       "    <tr style=\"text-align: right;\">\n",
       "      <th></th>\n",
       "      <th>left</th>\n",
       "    </tr>\n",
       "    <tr>\n",
       "      <th>department</th>\n",
       "      <th></th>\n",
       "    </tr>\n",
       "  </thead>\n",
       "  <tbody>\n",
       "    <tr>\n",
       "      <th>finance</th>\n",
       "      <td>108</td>\n",
       "    </tr>\n",
       "    <tr>\n",
       "      <th>IT</th>\n",
       "      <td>110</td>\n",
       "    </tr>\n",
       "    <tr>\n",
       "      <th>logistics</th>\n",
       "      <td>111</td>\n",
       "    </tr>\n",
       "    <tr>\n",
       "      <th>admin</th>\n",
       "      <td>119</td>\n",
       "    </tr>\n",
       "    <tr>\n",
       "      <th>support</th>\n",
       "      <td>212</td>\n",
       "    </tr>\n",
       "    <tr>\n",
       "      <th>marketing</th>\n",
       "      <td>243</td>\n",
       "    </tr>\n",
       "    <tr>\n",
       "      <th>operations</th>\n",
       "      <td>436</td>\n",
       "    </tr>\n",
       "    <tr>\n",
       "      <th>engineering</th>\n",
       "      <td>437</td>\n",
       "    </tr>\n",
       "    <tr>\n",
       "      <th>retail</th>\n",
       "      <td>471</td>\n",
       "    </tr>\n",
       "    <tr>\n",
       "      <th>sales</th>\n",
       "      <td>537</td>\n",
       "    </tr>\n",
       "  </tbody>\n",
       "</table>\n",
       "</div>"
      ],
      "text/plain": [
       "             left\n",
       "department       \n",
       "finance       108\n",
       "IT            110\n",
       "logistics     111\n",
       "admin         119\n",
       "support       212\n",
       "marketing     243\n",
       "operations    436\n",
       "engineering   437\n",
       "retail        471\n",
       "sales         537"
      ]
     },
     "execution_count": 4,
     "metadata": {},
     "output_type": "execute_result"
    }
   ],
   "source": [
    "# Department with sorted number of employee turnovers: from highest to lowest\n",
    "no_turnover = df[df.left == 'yes'].groupby('department').left.count().sort_values()\n",
    "\n",
    "no_turnover.to_frame()"
   ]
  },
  {
   "cell_type": "code",
   "execution_count": 17,
   "id": "663b1de0-3192-4076-a815-8914eef07ccb",
   "metadata": {},
   "outputs": [
    {
     "data": {
      "text/plain": [
       "no     0.708176\n",
       "yes    0.291824\n",
       "Name: left, dtype: float64"
      ]
     },
     "execution_count": 17,
     "metadata": {},
     "output_type": "execute_result"
    }
   ],
   "source": [
    "turnover_rate = df.left.value_counts()/len(df)\n",
    "turnover_rate"
   ]
  },
  {
   "cell_type": "markdown",
   "id": "34f02afe-58a5-4444-aa16-949b06043ea4",
   "metadata": {},
   "source": [
    "Looks like about 71% of the employees stayed and about 29% of the employees left."
   ]
  },
  {
   "cell_type": "code",
   "execution_count": 5,
   "id": "086c1e8c-b77f-4273-8316-8a784cc6f422",
   "metadata": {},
   "outputs": [
    {
     "data": {
      "image/png": "[encoded data removed]",
      "text/plain": [
       "<Figure size 576x432 with 1 Axes>"
      ]
     },
     "metadata": {
      "needs_background": "light"
     },
     "output_type": "display_data"
    }
   ],
   "source": [
    "# Department with sorted number of employee turnovers: from highest to lowest\n",
    "\n",
    "fig, ax = plt.subplots(figsize=(8, 6))\n",
    "no_turnover.plot.barh(ax=ax, title=\"Plot of Employee Turnover for each Department\", colormap='Dark2')\n",
    "plt.xlabel(\"Number of Employees that left\")\n",
    "plt.ylabel(\"Departments\")\n",
    "plt.show()"
   ]
  },
  {
   "cell_type": "markdown",
   "id": "be80a5cc-aeb1-423b-8b75-73de29a72851",
   "metadata": {},
   "source": [
    "**1. Which department has the highest employee turnover? Which one has the lowest?**\n",
    "\n",
    "The Department with the highest number of employee turnover as seen above is the Sales department, while the departments with the least is the Finance and IT department."
   ]
  },
  {
   "cell_type": "code",
   "execution_count": null,
   "id": "873dcf89-9dd9-4c15-b481-eecb2b8a0ae2",
   "metadata": {},
   "outputs": [
    {
     "data": {
      "text/html": [
       "<div>\n",
       "<style scoped>\n",
       "    .dataframe tbody tr th:only-of-type {\n",
       "        vertical-align: middle;\n",
       "    }\n",
       "\n",
       "    .dataframe tbody tr th {\n",
       "        vertical-align: top;\n",
       "    }\n",
       "\n",
       "    .dataframe thead th {\n",
       "        text-align: right;\n",
       "    }\n",
       "</style>\n",
       "<table border=\"1\" class=\"dataframe\">\n",
       "  <thead>\n",
       "    <tr style=\"text-align: right;\">\n",
       "      <th></th>\n",
       "      <th>promoted</th>\n",
       "      <th>review</th>\n",
       "      <th>projects</th>\n",
       "      <th>tenure</th>\n",
       "      <th>satisfaction</th>\n",
       "      <th>bonus</th>\n",
       "      <th>avg_hrs_month</th>\n",
       "    </tr>\n",
       "  </thead>\n",
       "  <tbody>\n",
       "    <tr>\n",
       "      <th>count</th>\n",
       "      <td>9540.000000</td>\n",
       "      <td>9540.000000</td>\n",
       "      <td>9540.000000</td>\n",
       "      <td>9540.000000</td>\n",
       "      <td>9540.000000</td>\n",
       "      <td>9540.000000</td>\n",
       "      <td>9540.000000</td>\n",
       "    </tr>\n",
       "    <tr>\n",
       "      <th>mean</th>\n",
       "      <td>0.030294</td>\n",
       "      <td>0.651826</td>\n",
       "      <td>3.274843</td>\n",
       "      <td>6.556184</td>\n",
       "      <td>0.504645</td>\n",
       "      <td>0.212055</td>\n",
       "      <td>184.661571</td>\n",
       "    </tr>\n",
       "    <tr>\n",
       "      <th>std</th>\n",
       "      <td>0.171403</td>\n",
       "      <td>0.085307</td>\n",
       "      <td>0.579136</td>\n",
       "      <td>1.415432</td>\n",
       "      <td>0.158555</td>\n",
       "      <td>0.408785</td>\n",
       "      <td>4.144831</td>\n",
       "    </tr>\n",
       "    <tr>\n",
       "      <th>min</th>\n",
       "      <td>0.000000</td>\n",
       "      <td>0.310000</td>\n",
       "      <td>2.000000</td>\n",
       "      <td>2.000000</td>\n",
       "      <td>0.000000</td>\n",
       "      <td>0.000000</td>\n",
       "      <td>171.374060</td>\n",
       "    </tr>\n",
       "    <tr>\n",
       "      <th>25%</th>\n",
       "      <td>0.000000</td>\n",
       "      <td>0.592884</td>\n",
       "      <td>3.000000</td>\n",
       "      <td>5.000000</td>\n",
       "      <td>0.386801</td>\n",
       "      <td>0.000000</td>\n",
       "      <td>181.472085</td>\n",
       "    </tr>\n",
       "    <tr>\n",
       "      <th>50%</th>\n",
       "      <td>0.000000</td>\n",
       "      <td>0.647456</td>\n",
       "      <td>3.000000</td>\n",
       "      <td>7.000000</td>\n",
       "      <td>0.500786</td>\n",
       "      <td>0.000000</td>\n",
       "      <td>184.628796</td>\n",
       "    </tr>\n",
       "    <tr>\n",
       "      <th>75%</th>\n",
       "      <td>0.000000</td>\n",
       "      <td>0.708379</td>\n",
       "      <td>4.000000</td>\n",
       "      <td>8.000000</td>\n",
       "      <td>0.622607</td>\n",
       "      <td>0.000000</td>\n",
       "      <td>187.728708</td>\n",
       "    </tr>\n",
       "    <tr>\n",
       "      <th>max</th>\n",
       "      <td>1.000000</td>\n",
       "      <td>1.000000</td>\n",
       "      <td>5.000000</td>\n",
       "      <td>12.000000</td>\n",
       "      <td>1.000000</td>\n",
       "      <td>1.000000</td>\n",
       "      <td>200.861656</td>\n",
       "    </tr>\n",
       "  </tbody>\n",
       "</table>\n",
       "</div>"
      ],
      "text/plain": [
       "          promoted       review     projects       tenure  satisfaction  \\\n",
       "count  9540.000000  9540.000000  9540.000000  9540.000000   9540.000000   \n",
       "mean      0.030294     0.651826     3.274843     6.556184      0.504645   \n",
       "std       0.171403     0.085307     0.579136     1.415432      0.158555   \n",
       "min       0.000000     0.310000     2.000000     2.000000      0.000000   \n",
       "25%       0.000000     0.592884     3.000000     5.000000      0.386801   \n",
       "50%       0.000000     0.647456     3.000000     7.000000      0.500786   \n",
       "75%       0.000000     0.708379     4.000000     8.000000      0.622607   \n",
       "max       1.000000     1.000000     5.000000    12.000000      1.000000   \n",
       "\n",
       "             bonus  avg_hrs_month  \n",
       "count  9540.000000    9540.000000  \n",
       "mean      0.212055     184.661571  \n",
       "std       0.408785       4.144831  \n",
       "min       0.000000     171.374060  \n",
       "25%       0.000000     181.472085  \n",
       "50%       0.000000     184.628796  \n",
       "75%       0.000000     187.728708  \n",
       "max       1.000000     200.861656  "
      ]
     },
     "execution_count": 18,
     "metadata": {},
     "output_type": "execute_result"
    }
   ],
   "source": [
    "#Statistical Overview of the employee turnover dataset\n",
    "df.describe()"
   ]
  },
  {
   "cell_type": "code",
   "execution_count": 20,
   "id": "c95f4325-ccb3-458b-8411-51b14f237cd3",
   "metadata": {},
   "outputs": [
    {
     "data": {
      "text/html": [
       "<div>\n",
       "<style scoped>\n",
       "    .dataframe tbody tr th:only-of-type {\n",
       "        vertical-align: middle;\n",
       "    }\n",
       "\n",
       "    .dataframe tbody tr th {\n",
       "        vertical-align: top;\n",
       "    }\n",
       "\n",
       "    .dataframe thead th {\n",
       "        text-align: right;\n",
       "    }\n",
       "</style>\n",
       "<table border=\"1\" class=\"dataframe\">\n",
       "  <thead>\n",
       "    <tr style=\"text-align: right;\">\n",
       "      <th></th>\n",
       "      <th>promoted</th>\n",
       "      <th>review</th>\n",
       "      <th>projects</th>\n",
       "      <th>tenure</th>\n",
       "      <th>satisfaction</th>\n",
       "      <th>bonus</th>\n",
       "      <th>avg_hrs_month</th>\n",
       "    </tr>\n",
       "    <tr>\n",
       "      <th>left</th>\n",
       "      <th></th>\n",
       "      <th></th>\n",
       "      <th></th>\n",
       "      <th></th>\n",
       "      <th></th>\n",
       "      <th></th>\n",
       "      <th></th>\n",
       "    </tr>\n",
       "  </thead>\n",
       "  <tbody>\n",
       "    <tr>\n",
       "      <th>no</th>\n",
       "      <td>0.034340</td>\n",
       "      <td>0.635164</td>\n",
       "      <td>3.279455</td>\n",
       "      <td>6.546625</td>\n",
       "      <td>0.505634</td>\n",
       "      <td>0.215068</td>\n",
       "      <td>184.637605</td>\n",
       "    </tr>\n",
       "    <tr>\n",
       "      <th>yes</th>\n",
       "      <td>0.020474</td>\n",
       "      <td>0.692262</td>\n",
       "      <td>3.263649</td>\n",
       "      <td>6.579382</td>\n",
       "      <td>0.502244</td>\n",
       "      <td>0.204741</td>\n",
       "      <td>184.719730</td>\n",
       "    </tr>\n",
       "  </tbody>\n",
       "</table>\n",
       "</div>"
      ],
      "text/plain": [
       "      promoted    review  projects    tenure  satisfaction     bonus  \\\n",
       "left                                                                   \n",
       "no    0.034340  0.635164  3.279455  6.546625      0.505634  0.215068   \n",
       "yes   0.020474  0.692262  3.263649  6.579382      0.502244  0.204741   \n",
       "\n",
       "      avg_hrs_month  \n",
       "left                 \n",
       "no       184.637605  \n",
       "yes      184.719730  "
      ]
     },
     "execution_count": 20,
     "metadata": {},
     "output_type": "execute_result"
    }
   ],
   "source": [
    "#Turnover Summary\n",
    "turnover_summary = df.groupby('left')\n",
    "turnover_summary.mean()"
   ]
  },
  {
   "cell_type": "markdown",
   "id": "be10a565-61a4-4d9c-af83-254fafe05343",
   "metadata": {},
   "source": [
    "Based on turnover summary, it can be seen that the employees who got promoted did not leave, whereas the employees that did not get promoted left."
   ]
  },
  {
   "cell_type": "code",
   "execution_count": 55,
   "id": "c273aaca-57cf-4bf2-8766-b392f5d8c7df",
   "metadata": {},
   "outputs": [
    {
     "data": {
      "text/plain": [
       "Index(['department', 'promoted', 'review', 'projects', 'salary', 'tenure',\n",
       "       'satisfaction', 'bonus', 'avg_hrs_month', 'left', 'promoted_category'],\n",
       "      dtype='object')"
      ]
     },
     "execution_count": 55,
     "metadata": {},
     "output_type": "execute_result"
    }
   ],
   "source": [
    "df.columns"
   ]
  },
  {
   "cell_type": "code",
   "execution_count": 59,
   "id": "1eba3d1b-f8e2-45e7-adcb-a0f0e46a9a68",
   "metadata": {},
   "outputs": [
    {
     "data": {
      "text/html": [
       "<div>\n",
       "<style scoped>\n",
       "    .dataframe tbody tr th:only-of-type {\n",
       "        vertical-align: middle;\n",
       "    }\n",
       "\n",
       "    .dataframe tbody tr th {\n",
       "        vertical-align: top;\n",
       "    }\n",
       "\n",
       "    .dataframe thead th {\n",
       "        text-align: right;\n",
       "    }\n",
       "</style>\n",
       "<table border=\"1\" class=\"dataframe\">\n",
       "  <thead>\n",
       "    <tr style=\"text-align: right;\">\n",
       "      <th></th>\n",
       "      <th>promoted</th>\n",
       "      <th>review</th>\n",
       "      <th>projects</th>\n",
       "      <th>tenure</th>\n",
       "      <th>satisfaction</th>\n",
       "      <th>bonus</th>\n",
       "      <th>avg_hrs_month</th>\n",
       "      <th>left</th>\n",
       "    </tr>\n",
       "  </thead>\n",
       "  <tbody>\n",
       "    <tr>\n",
       "      <th>promoted</th>\n",
       "      <td>1.000000</td>\n",
       "      <td>0.001879</td>\n",
       "      <td>0.010107</td>\n",
       "      <td>0.001410</td>\n",
       "      <td>-0.011704</td>\n",
       "      <td>0.001072</td>\n",
       "      <td>-0.002190</td>\n",
       "      <td>-0.036777</td>\n",
       "    </tr>\n",
       "    <tr>\n",
       "      <th>review</th>\n",
       "      <td>0.001879</td>\n",
       "      <td>1.000000</td>\n",
       "      <td>0.000219</td>\n",
       "      <td>-0.184133</td>\n",
       "      <td>-0.349778</td>\n",
       "      <td>-0.003627</td>\n",
       "      <td>-0.196096</td>\n",
       "      <td>0.304294</td>\n",
       "    </tr>\n",
       "    <tr>\n",
       "      <th>projects</th>\n",
       "      <td>0.010107</td>\n",
       "      <td>0.000219</td>\n",
       "      <td>1.000000</td>\n",
       "      <td>0.022596</td>\n",
       "      <td>0.002714</td>\n",
       "      <td>0.002654</td>\n",
       "      <td>0.021299</td>\n",
       "      <td>-0.012408</td>\n",
       "    </tr>\n",
       "    <tr>\n",
       "      <th>tenure</th>\n",
       "      <td>0.001410</td>\n",
       "      <td>-0.184133</td>\n",
       "      <td>0.022596</td>\n",
       "      <td>1.000000</td>\n",
       "      <td>-0.146246</td>\n",
       "      <td>-0.000392</td>\n",
       "      <td>0.978618</td>\n",
       "      <td>0.010521</td>\n",
       "    </tr>\n",
       "    <tr>\n",
       "      <th>satisfaction</th>\n",
       "      <td>-0.011704</td>\n",
       "      <td>-0.349778</td>\n",
       "      <td>0.002714</td>\n",
       "      <td>-0.146246</td>\n",
       "      <td>1.000000</td>\n",
       "      <td>0.000704</td>\n",
       "      <td>-0.143142</td>\n",
       "      <td>-0.009721</td>\n",
       "    </tr>\n",
       "    <tr>\n",
       "      <th>bonus</th>\n",
       "      <td>0.001072</td>\n",
       "      <td>-0.003627</td>\n",
       "      <td>0.002654</td>\n",
       "      <td>-0.000392</td>\n",
       "      <td>0.000704</td>\n",
       "      <td>1.000000</td>\n",
       "      <td>-0.000370</td>\n",
       "      <td>-0.011485</td>\n",
       "    </tr>\n",
       "    <tr>\n",
       "      <th>avg_hrs_month</th>\n",
       "      <td>-0.002190</td>\n",
       "      <td>-0.196096</td>\n",
       "      <td>0.021299</td>\n",
       "      <td>0.978618</td>\n",
       "      <td>-0.143142</td>\n",
       "      <td>-0.000370</td>\n",
       "      <td>1.000000</td>\n",
       "      <td>0.009008</td>\n",
       "    </tr>\n",
       "    <tr>\n",
       "      <th>left</th>\n",
       "      <td>-0.036777</td>\n",
       "      <td>0.304294</td>\n",
       "      <td>-0.012408</td>\n",
       "      <td>0.010521</td>\n",
       "      <td>-0.009721</td>\n",
       "      <td>-0.011485</td>\n",
       "      <td>0.009008</td>\n",
       "      <td>1.000000</td>\n",
       "    </tr>\n",
       "  </tbody>\n",
       "</table>\n",
       "</div>"
      ],
      "text/plain": [
       "               promoted    review  projects    tenure  satisfaction     bonus  \\\n",
       "promoted       1.000000  0.001879  0.010107  0.001410     -0.011704  0.001072   \n",
       "review         0.001879  1.000000  0.000219 -0.184133     -0.349778 -0.003627   \n",
       "projects       0.010107  0.000219  1.000000  0.022596      0.002714  0.002654   \n",
       "tenure         0.001410 -0.184133  0.022596  1.000000     -0.146246 -0.000392   \n",
       "satisfaction  -0.011704 -0.349778  0.002714 -0.146246      1.000000  0.000704   \n",
       "bonus          0.001072 -0.003627  0.002654 -0.000392      0.000704  1.000000   \n",
       "avg_hrs_month -0.002190 -0.196096  0.021299  0.978618     -0.143142 -0.000370   \n",
       "left          -0.036777  0.304294 -0.012408  0.010521     -0.009721 -0.011485   \n",
       "\n",
       "               avg_hrs_month      left  \n",
       "promoted           -0.002190 -0.036777  \n",
       "review             -0.196096  0.304294  \n",
       "projects            0.021299 -0.012408  \n",
       "tenure              0.978618  0.010521  \n",
       "satisfaction       -0.143142 -0.009721  \n",
       "bonus              -0.000370 -0.011485  \n",
       "avg_hrs_month       1.000000  0.009008  \n",
       "left                0.009008  1.000000  "
      ]
     },
     "execution_count": 59,
     "metadata": {},
     "output_type": "execute_result"
    }
   ],
   "source": [
    "df[['department', 'promoted', 'review', 'projects', 'salary', 'tenure',\n",
    "       'satisfaction', 'bonus', 'avg_hrs_month', 'left', 'promoted_category']].corr()"
   ]
  },
  {
   "cell_type": "code",
   "execution_count": 61,
   "id": "da7ff713-f5e1-4dd8-b4f3-4d34877c7cfe",
   "metadata": {},
   "outputs": [
    {
     "data": {
      "text/html": [
       "<div>\n",
       "<style scoped>\n",
       "    .dataframe tbody tr th:only-of-type {\n",
       "        vertical-align: middle;\n",
       "    }\n",
       "\n",
       "    .dataframe tbody tr th {\n",
       "        vertical-align: top;\n",
       "    }\n",
       "\n",
       "    .dataframe thead th {\n",
       "        text-align: right;\n",
       "    }\n",
       "</style>\n",
       "<table border=\"1\" class=\"dataframe\">\n",
       "  <thead>\n",
       "    <tr style=\"text-align: right;\">\n",
       "      <th></th>\n",
       "      <th>promoted</th>\n",
       "      <th>review</th>\n",
       "      <th>projects</th>\n",
       "      <th>tenure</th>\n",
       "      <th>satisfaction</th>\n",
       "      <th>bonus</th>\n",
       "      <th>avg_hrs_month</th>\n",
       "      <th>left</th>\n",
       "    </tr>\n",
       "  </thead>\n",
       "  <tbody>\n",
       "    <tr>\n",
       "      <th>promoted</th>\n",
       "      <td>1.000000</td>\n",
       "      <td>0.001879</td>\n",
       "      <td>0.010107</td>\n",
       "      <td>0.001410</td>\n",
       "      <td>-0.011704</td>\n",
       "      <td>0.001072</td>\n",
       "      <td>-0.002190</td>\n",
       "      <td>-0.036777</td>\n",
       "    </tr>\n",
       "    <tr>\n",
       "      <th>review</th>\n",
       "      <td>0.001879</td>\n",
       "      <td>1.000000</td>\n",
       "      <td>0.000219</td>\n",
       "      <td>-0.184133</td>\n",
       "      <td>-0.349778</td>\n",
       "      <td>-0.003627</td>\n",
       "      <td>-0.196096</td>\n",
       "      <td>0.304294</td>\n",
       "    </tr>\n",
       "    <tr>\n",
       "      <th>projects</th>\n",
       "      <td>0.010107</td>\n",
       "      <td>0.000219</td>\n",
       "      <td>1.000000</td>\n",
       "      <td>0.022596</td>\n",
       "      <td>0.002714</td>\n",
       "      <td>0.002654</td>\n",
       "      <td>0.021299</td>\n",
       "      <td>-0.012408</td>\n",
       "    </tr>\n",
       "    <tr>\n",
       "      <th>tenure</th>\n",
       "      <td>0.001410</td>\n",
       "      <td>-0.184133</td>\n",
       "      <td>0.022596</td>\n",
       "      <td>1.000000</td>\n",
       "      <td>-0.146246</td>\n",
       "      <td>-0.000392</td>\n",
       "      <td>0.978618</td>\n",
       "      <td>0.010521</td>\n",
       "    </tr>\n",
       "    <tr>\n",
       "      <th>satisfaction</th>\n",
       "      <td>-0.011704</td>\n",
       "      <td>-0.349778</td>\n",
       "      <td>0.002714</td>\n",
       "      <td>-0.146246</td>\n",
       "      <td>1.000000</td>\n",
       "      <td>0.000704</td>\n",
       "      <td>-0.143142</td>\n",
       "      <td>-0.009721</td>\n",
       "    </tr>\n",
       "    <tr>\n",
       "      <th>bonus</th>\n",
       "      <td>0.001072</td>\n",
       "      <td>-0.003627</td>\n",
       "      <td>0.002654</td>\n",
       "      <td>-0.000392</td>\n",
       "      <td>0.000704</td>\n",
       "      <td>1.000000</td>\n",
       "      <td>-0.000370</td>\n",
       "      <td>-0.011485</td>\n",
       "    </tr>\n",
       "    <tr>\n",
       "      <th>avg_hrs_month</th>\n",
       "      <td>-0.002190</td>\n",
       "      <td>-0.196096</td>\n",
       "      <td>0.021299</td>\n",
       "      <td>0.978618</td>\n",
       "      <td>-0.143142</td>\n",
       "      <td>-0.000370</td>\n",
       "      <td>1.000000</td>\n",
       "      <td>0.009008</td>\n",
       "    </tr>\n",
       "    <tr>\n",
       "      <th>left</th>\n",
       "      <td>-0.036777</td>\n",
       "      <td>0.304294</td>\n",
       "      <td>-0.012408</td>\n",
       "      <td>0.010521</td>\n",
       "      <td>-0.009721</td>\n",
       "      <td>-0.011485</td>\n",
       "      <td>0.009008</td>\n",
       "      <td>1.000000</td>\n",
       "    </tr>\n",
       "  </tbody>\n",
       "</table>\n",
       "</div>"
      ],
      "text/plain": [
       "               promoted    review  projects    tenure  satisfaction     bonus  \\\n",
       "promoted       1.000000  0.001879  0.010107  0.001410     -0.011704  0.001072   \n",
       "review         0.001879  1.000000  0.000219 -0.184133     -0.349778 -0.003627   \n",
       "projects       0.010107  0.000219  1.000000  0.022596      0.002714  0.002654   \n",
       "tenure         0.001410 -0.184133  0.022596  1.000000     -0.146246 -0.000392   \n",
       "satisfaction  -0.011704 -0.349778  0.002714 -0.146246      1.000000  0.000704   \n",
       "bonus          0.001072 -0.003627  0.002654 -0.000392      0.000704  1.000000   \n",
       "avg_hrs_month -0.002190 -0.196096  0.021299  0.978618     -0.143142 -0.000370   \n",
       "left          -0.036777  0.304294 -0.012408  0.010521     -0.009721 -0.011485   \n",
       "\n",
       "               avg_hrs_month      left  \n",
       "promoted           -0.002190 -0.036777  \n",
       "review             -0.196096  0.304294  \n",
       "projects            0.021299 -0.012408  \n",
       "tenure              0.978618  0.010521  \n",
       "satisfaction       -0.143142 -0.009721  \n",
       "bonus              -0.000370 -0.011485  \n",
       "avg_hrs_month       1.000000  0.009008  \n",
       "left                0.009008  1.000000  "
      ]
     },
     "execution_count": 61,
     "metadata": {},
     "output_type": "execute_result"
    }
   ],
   "source": [
    "dcorr=df[['department', 'promoted', 'review', 'projects', 'salary', 'tenure',\n",
    "       'satisfaction', 'bonus', 'avg_hrs_month', 'left', 'promoted_category']].corr()\n",
    "dcorr"
   ]
  },
  {
   "cell_type": "code",
   "execution_count": null,
   "id": "1de0072e-d691-41d6-a31e-d16968aa0349",
   "metadata": {},
   "outputs": [
    {
     "data": {
      "text/html": [
       "<style type=\"text/css\">\n",
       "#T_35c5c_row0_col0, #T_35c5c_row1_col1, #T_35c5c_row2_col2, #T_35c5c_row3_col3, #T_35c5c_row4_col4, #T_35c5c_row5_col5, #T_35c5c_row6_col6, #T_35c5c_row7_col7 {\n",
       "  background-color: #023858;\n",
       "  color: #f1f1f1;\n",
       "}\n",
       "#T_35c5c_row0_col1, #T_35c5c_row2_col1, #T_35c5c_row2_col4, #T_35c5c_row5_col4 {\n",
       "  background-color: #cdd0e5;\n",
       "  color: #000000;\n",
       "}\n",
       "#T_35c5c_row0_col2 {\n",
       "  background-color: #fcf4fa;\n",
       "  color: #000000;\n",
       "}\n",
       "#T_35c5c_row0_col3 {\n",
       "  background-color: #e5e1ef;\n",
       "  color: #000000;\n",
       "}\n",
       "#T_35c5c_row0_col4, #T_35c5c_row7_col4 {\n",
       "  background-color: #d0d1e6;\n",
       "  color: #000000;\n",
       "}\n",
       "#T_35c5c_row0_col5, #T_35c5c_row1_col2, #T_35c5c_row2_col5, #T_35c5c_row4_col2, #T_35c5c_row4_col5, #T_35c5c_row5_col2 {\n",
       "  background-color: #fdf5fa;\n",
       "  color: #000000;\n",
       "}\n",
       "#T_35c5c_row0_col6, #T_35c5c_row5_col6 {\n",
       "  background-color: #e4e1ef;\n",
       "  color: #000000;\n",
       "}\n",
       "#T_35c5c_row0_col7, #T_35c5c_row1_col3, #T_35c5c_row1_col4, #T_35c5c_row1_col6, #T_35c5c_row4_col1, #T_35c5c_row7_col0, #T_35c5c_row7_col2, #T_35c5c_row7_col5 {\n",
       "  background-color: #fff7fb;\n",
       "  color: #000000;\n",
       "}\n",
       "#T_35c5c_row1_col0, #T_35c5c_row3_col0, #T_35c5c_row5_col0 {\n",
       "  background-color: #faf2f8;\n",
       "  color: #000000;\n",
       "}\n",
       "#T_35c5c_row1_col5 {\n",
       "  background-color: #fef6fb;\n",
       "  color: #000000;\n",
       "}\n",
       "#T_35c5c_row1_col7 {\n",
       "  background-color: #b5c4df;\n",
       "  color: #000000;\n",
       "}\n",
       "#T_35c5c_row2_col0, #T_35c5c_row3_col7, #T_35c5c_row4_col6, #T_35c5c_row6_col7 {\n",
       "  background-color: #f8f1f8;\n",
       "  color: #000000;\n",
       "}\n",
       "#T_35c5c_row2_col3 {\n",
       "  background-color: #e1dfed;\n",
       "  color: #000000;\n",
       "}\n",
       "#T_35c5c_row2_col6 {\n",
       "  background-color: #e0dded;\n",
       "  color: #000000;\n",
       "}\n",
       "#T_35c5c_row2_col7, #T_35c5c_row4_col0, #T_35c5c_row4_col7, #T_35c5c_row5_col7 {\n",
       "  background-color: #fbf4f9;\n",
       "  color: #000000;\n",
       "}\n",
       "#T_35c5c_row3_col1 {\n",
       "  background-color: #ede7f2;\n",
       "  color: #000000;\n",
       "}\n",
       "#T_35c5c_row3_col2, #T_35c5c_row4_col3, #T_35c5c_row6_col0, #T_35c5c_row6_col2 {\n",
       "  background-color: #faf3f9;\n",
       "  color: #000000;\n",
       "}\n",
       "#T_35c5c_row3_col4 {\n",
       "  background-color: #e7e3f0;\n",
       "  color: #000000;\n",
       "}\n",
       "#T_35c5c_row3_col5, #T_35c5c_row6_col5 {\n",
       "  background-color: #fef6fa;\n",
       "  color: #000000;\n",
       "}\n",
       "#T_35c5c_row3_col6, #T_35c5c_row6_col3 {\n",
       "  background-color: #023c5f;\n",
       "  color: #f1f1f1;\n",
       "}\n",
       "#T_35c5c_row5_col1 {\n",
       "  background-color: #ced0e6;\n",
       "  color: #000000;\n",
       "}\n",
       "#T_35c5c_row5_col3, #T_35c5c_row6_col4 {\n",
       "  background-color: #e6e2ef;\n",
       "  color: #000000;\n",
       "}\n",
       "#T_35c5c_row6_col1 {\n",
       "  background-color: #eee8f3;\n",
       "  color: #000000;\n",
       "}\n",
       "#T_35c5c_row7_col1 {\n",
       "  background-color: #79abd0;\n",
       "  color: #f1f1f1;\n",
       "}\n",
       "#T_35c5c_row7_col3 {\n",
       "  background-color: #e3e0ee;\n",
       "  color: #000000;\n",
       "}\n",
       "#T_35c5c_row7_col6 {\n",
       "  background-color: #e2dfee;\n",
       "  color: #000000;\n",
       "}\n",
       "</style>\n",
       "<table id=\"T_35c5c_\">\n",
       "  <thead>\n",
       "    <tr>\n",
       "      <th class=\"blank level0\" >&nbsp;</th>\n",
       "      <th class=\"col_heading level0 col0\" >promoted</th>\n",
       "      <th class=\"col_heading level0 col1\" >review</th>\n",
       "      <th class=\"col_heading level0 col2\" >projects</th>\n",
       "      <th class=\"col_heading level0 col3\" >tenure</th>\n",
       "      <th class=\"col_heading level0 col4\" >satisfaction</th>\n",
       "      <th class=\"col_heading level0 col5\" >bonus</th>\n",
       "      <th class=\"col_heading level0 col6\" >avg_hrs_month</th>\n",
       "      <th class=\"col_heading level0 col7\" >left</th>\n",
       "    </tr>\n",
       "  </thead>\n",
       "  <tbody>\n",
       "    <tr>\n",
       "      <th id=\"T_35c5c_level0_row0\" class=\"row_heading level0 row0\" >promoted</th>\n",
       "      <td id=\"T_35c5c_row0_col0\" class=\"data row0 col0\" >1.000000</td>\n",
       "      <td id=\"T_35c5c_row0_col1\" class=\"data row0 col1\" >0.001879</td>\n",
       "      <td id=\"T_35c5c_row0_col2\" class=\"data row0 col2\" >0.010107</td>\n",
       "      <td id=\"T_35c5c_row0_col3\" class=\"data row0 col3\" >0.001410</td>\n",
       "      <td id=\"T_35c5c_row0_col4\" class=\"data row0 col4\" >-0.011704</td>\n",
       "      <td id=\"T_35c5c_row0_col5\" class=\"data row0 col5\" >0.001072</td>\n",
       "      <td id=\"T_35c5c_row0_col6\" class=\"data row0 col6\" >-0.002190</td>\n",
       "      <td id=\"T_35c5c_row0_col7\" class=\"data row0 col7\" >-0.036777</td>\n",
       "    </tr>\n",
       "    <tr>\n",
       "      <th id=\"T_35c5c_level0_row1\" class=\"row_heading level0 row1\" >review</th>\n",
       "      <td id=\"T_35c5c_row1_col0\" class=\"data row1 col0\" >0.001879</td>\n",
       "      <td id=\"T_35c5c_row1_col1\" class=\"data row1 col1\" >1.000000</td>\n",
       "      <td id=\"T_35c5c_row1_col2\" class=\"data row1 col2\" >0.000219</td>\n",
       "      <td id=\"T_35c5c_row1_col3\" class=\"data row1 col3\" >-0.184133</td>\n",
       "      <td id=\"T_35c5c_row1_col4\" class=\"data row1 col4\" >-0.349778</td>\n",
       "      <td id=\"T_35c5c_row1_col5\" class=\"data row1 col5\" >-0.003627</td>\n",
       "      <td id=\"T_35c5c_row1_col6\" class=\"data row1 col6\" >-0.196096</td>\n",
       "      <td id=\"T_35c5c_row1_col7\" class=\"data row1 col7\" >0.304294</td>\n",
       "    </tr>\n",
       "    <tr>\n",
       "      <th id=\"T_35c5c_level0_row2\" class=\"row_heading level0 row2\" >projects</th>\n",
       "      <td id=\"T_35c5c_row2_col0\" class=\"data row2 col0\" >0.010107</td>\n",
       "      <td id=\"T_35c5c_row2_col1\" class=\"data row2 col1\" >0.000219</td>\n",
       "      <td id=\"T_35c5c_row2_col2\" class=\"data row2 col2\" >1.000000</td>\n",
       "      <td id=\"T_35c5c_row2_col3\" class=\"data row2 col3\" >0.022596</td>\n",
       "      <td id=\"T_35c5c_row2_col4\" class=\"data row2 col4\" >0.002714</td>\n",
       "      <td id=\"T_35c5c_row2_col5\" class=\"data row2 col5\" >0.002654</td>\n",
       "      <td id=\"T_35c5c_row2_col6\" class=\"data row2 col6\" >0.021299</td>\n",
       "      <td id=\"T_35c5c_row2_col7\" class=\"data row2 col7\" >-0.012408</td>\n",
       "    </tr>\n",
       "    <tr>\n",
       "      <th id=\"T_35c5c_level0_row3\" class=\"row_heading level0 row3\" >tenure</th>\n",
       "      <td id=\"T_35c5c_row3_col0\" class=\"data row3 col0\" >0.001410</td>\n",
       "      <td id=\"T_35c5c_row3_col1\" class=\"data row3 col1\" >-0.184133</td>\n",
       "      <td id=\"T_35c5c_row3_col2\" class=\"data row3 col2\" >0.022596</td>\n",
       "      <td id=\"T_35c5c_row3_col3\" class=\"data row3 col3\" >1.000000</td>\n",
       "      <td id=\"T_35c5c_row3_col4\" class=\"data row3 col4\" >-0.146246</td>\n",
       "      <td id=\"T_35c5c_row3_col5\" class=\"data row3 col5\" >-0.000392</td>\n",
       "      <td id=\"T_35c5c_row3_col6\" class=\"data row3 col6\" >0.978618</td>\n",
       "      <td id=\"T_35c5c_row3_col7\" class=\"data row3 col7\" >0.010521</td>\n",
       "    </tr>\n",
       "    <tr>\n",
       "      <th id=\"T_35c5c_level0_row4\" class=\"row_heading level0 row4\" >satisfaction</th>\n",
       "      <td id=\"T_35c5c_row4_col0\" class=\"data row4 col0\" >-0.011704</td>\n",
       "      <td id=\"T_35c5c_row4_col1\" class=\"data row4 col1\" >-0.349778</td>\n",
       "      <td id=\"T_35c5c_row4_col2\" class=\"data row4 col2\" >0.002714</td>\n",
       "      <td id=\"T_35c5c_row4_col3\" class=\"data row4 col3\" >-0.146246</td>\n",
       "      <td id=\"T_35c5c_row4_col4\" class=\"data row4 col4\" >1.000000</td>\n",
       "      <td id=\"T_35c5c_row4_col5\" class=\"data row4 col5\" >0.000704</td>\n",
       "      <td id=\"T_35c5c_row4_col6\" class=\"data row4 col6\" >-0.143142</td>\n",
       "      <td id=\"T_35c5c_row4_col7\" class=\"data row4 col7\" >-0.009721</td>\n",
       "    </tr>\n",
       "    <tr>\n",
       "      <th id=\"T_35c5c_level0_row5\" class=\"row_heading level0 row5\" >bonus</th>\n",
       "      <td id=\"T_35c5c_row5_col0\" class=\"data row5 col0\" >0.001072</td>\n",
       "      <td id=\"T_35c5c_row5_col1\" class=\"data row5 col1\" >-0.003627</td>\n",
       "      <td id=\"T_35c5c_row5_col2\" class=\"data row5 col2\" >0.002654</td>\n",
       "      <td id=\"T_35c5c_row5_col3\" class=\"data row5 col3\" >-0.000392</td>\n",
       "      <td id=\"T_35c5c_row5_col4\" class=\"data row5 col4\" >0.000704</td>\n",
       "      <td id=\"T_35c5c_row5_col5\" class=\"data row5 col5\" >1.000000</td>\n",
       "      <td id=\"T_35c5c_row5_col6\" class=\"data row5 col6\" >-0.000370</td>\n",
       "      <td id=\"T_35c5c_row5_col7\" class=\"data row5 col7\" >-0.011485</td>\n",
       "    </tr>\n",
       "    <tr>\n",
       "      <th id=\"T_35c5c_level0_row6\" class=\"row_heading level0 row6\" >avg_hrs_month</th>\n",
       "      <td id=\"T_35c5c_row6_col0\" class=\"data row6 col0\" >-0.002190</td>\n",
       "      <td id=\"T_35c5c_row6_col1\" class=\"data row6 col1\" >-0.196096</td>\n",
       "      <td id=\"T_35c5c_row6_col2\" class=\"data row6 col2\" >0.021299</td>\n",
       "      <td id=\"T_35c5c_row6_col3\" class=\"data row6 col3\" >0.978618</td>\n",
       "      <td id=\"T_35c5c_row6_col4\" class=\"data row6 col4\" >-0.143142</td>\n",
       "      <td id=\"T_35c5c_row6_col5\" class=\"data row6 col5\" >-0.000370</td>\n",
       "      <td id=\"T_35c5c_row6_col6\" class=\"data row6 col6\" >1.000000</td>\n",
       "      <td id=\"T_35c5c_row6_col7\" class=\"data row6 col7\" >0.009008</td>\n",
       "    </tr>\n",
       "    <tr>\n",
       "      <th id=\"T_35c5c_level0_row7\" class=\"row_heading level0 row7\" >left</th>\n",
       "      <td id=\"T_35c5c_row7_col0\" class=\"data row7 col0\" >-0.036777</td>\n",
       "      <td id=\"T_35c5c_row7_col1\" class=\"data row7 col1\" >0.304294</td>\n",
       "      <td id=\"T_35c5c_row7_col2\" class=\"data row7 col2\" >-0.012408</td>\n",
       "      <td id=\"T_35c5c_row7_col3\" class=\"data row7 col3\" >0.010521</td>\n",
       "      <td id=\"T_35c5c_row7_col4\" class=\"data row7 col4\" >-0.009721</td>\n",
       "      <td id=\"T_35c5c_row7_col5\" class=\"data row7 col5\" >-0.011485</td>\n",
       "      <td id=\"T_35c5c_row7_col6\" class=\"data row7 col6\" >0.009008</td>\n",
       "      <td id=\"T_35c5c_row7_col7\" class=\"data row7 col7\" >1.000000</td>\n",
       "    </tr>\n",
       "  </tbody>\n",
       "</table>\n"
      ],
      "text/plain": [
       "<pandas.io.formats.style.Styler at 0x2806f7bad00>"
      ]
     },
     "execution_count": 62,
     "metadata": {},
     "output_type": "execute_result"
    }
   ],
   "source": [
    "dcorr.style.background_gradient()"
   ]
  },
  {
   "cell_type": "code",
   "execution_count": 63,
   "id": "e8c1295d-6fea-4569-8ed2-d61acda8f48a",
   "metadata": {},
   "outputs": [
    {
     "data": {
      "text/html": [
       "<div>\n",
       "<style scoped>\n",
       "    .dataframe tbody tr th:only-of-type {\n",
       "        vertical-align: middle;\n",
       "    }\n",
       "\n",
       "    .dataframe tbody tr th {\n",
       "        vertical-align: top;\n",
       "    }\n",
       "\n",
       "    .dataframe thead th {\n",
       "        text-align: right;\n",
       "    }\n",
       "</style>\n",
       "<table border=\"1\" class=\"dataframe\">\n",
       "  <thead>\n",
       "    <tr style=\"text-align: right;\">\n",
       "      <th></th>\n",
       "      <th>promoted</th>\n",
       "      <th>review</th>\n",
       "      <th>projects</th>\n",
       "      <th>tenure</th>\n",
       "      <th>satisfaction</th>\n",
       "      <th>bonus</th>\n",
       "      <th>avg_hrs_month</th>\n",
       "      <th>left</th>\n",
       "    </tr>\n",
       "  </thead>\n",
       "  <tbody>\n",
       "    <tr>\n",
       "      <th>promoted</th>\n",
       "      <td>1.000000</td>\n",
       "      <td>0.001879</td>\n",
       "      <td>0.010107</td>\n",
       "      <td>0.001410</td>\n",
       "      <td>-0.011704</td>\n",
       "      <td>0.001072</td>\n",
       "      <td>-0.002190</td>\n",
       "      <td>-0.036777</td>\n",
       "    </tr>\n",
       "    <tr>\n",
       "      <th>review</th>\n",
       "      <td>0.001879</td>\n",
       "      <td>1.000000</td>\n",
       "      <td>0.000219</td>\n",
       "      <td>-0.184133</td>\n",
       "      <td>-0.349778</td>\n",
       "      <td>-0.003627</td>\n",
       "      <td>-0.196096</td>\n",
       "      <td>0.304294</td>\n",
       "    </tr>\n",
       "    <tr>\n",
       "      <th>projects</th>\n",
       "      <td>0.010107</td>\n",
       "      <td>0.000219</td>\n",
       "      <td>1.000000</td>\n",
       "      <td>0.022596</td>\n",
       "      <td>0.002714</td>\n",
       "      <td>0.002654</td>\n",
       "      <td>0.021299</td>\n",
       "      <td>-0.012408</td>\n",
       "    </tr>\n",
       "    <tr>\n",
       "      <th>tenure</th>\n",
       "      <td>0.001410</td>\n",
       "      <td>-0.184133</td>\n",
       "      <td>0.022596</td>\n",
       "      <td>1.000000</td>\n",
       "      <td>-0.146246</td>\n",
       "      <td>-0.000392</td>\n",
       "      <td>0.978618</td>\n",
       "      <td>0.010521</td>\n",
       "    </tr>\n",
       "    <tr>\n",
       "      <th>satisfaction</th>\n",
       "      <td>-0.011704</td>\n",
       "      <td>-0.349778</td>\n",
       "      <td>0.002714</td>\n",
       "      <td>-0.146246</td>\n",
       "      <td>1.000000</td>\n",
       "      <td>0.000704</td>\n",
       "      <td>-0.143142</td>\n",
       "      <td>-0.009721</td>\n",
       "    </tr>\n",
       "    <tr>\n",
       "      <th>bonus</th>\n",
       "      <td>0.001072</td>\n",
       "      <td>-0.003627</td>\n",
       "      <td>0.002654</td>\n",
       "      <td>-0.000392</td>\n",
       "      <td>0.000704</td>\n",
       "      <td>1.000000</td>\n",
       "      <td>-0.000370</td>\n",
       "      <td>-0.011485</td>\n",
       "    </tr>\n",
       "    <tr>\n",
       "      <th>avg_hrs_month</th>\n",
       "      <td>-0.002190</td>\n",
       "      <td>-0.196096</td>\n",
       "      <td>0.021299</td>\n",
       "      <td>0.978618</td>\n",
       "      <td>-0.143142</td>\n",
       "      <td>-0.000370</td>\n",
       "      <td>1.000000</td>\n",
       "      <td>0.009008</td>\n",
       "    </tr>\n",
       "    <tr>\n",
       "      <th>left</th>\n",
       "      <td>-0.036777</td>\n",
       "      <td>0.304294</td>\n",
       "      <td>-0.012408</td>\n",
       "      <td>0.010521</td>\n",
       "      <td>-0.009721</td>\n",
       "      <td>-0.011485</td>\n",
       "      <td>0.009008</td>\n",
       "      <td>1.000000</td>\n",
       "    </tr>\n",
       "  </tbody>\n",
       "</table>\n",
       "</div>"
      ],
      "text/plain": [
       "               promoted    review  projects    tenure  satisfaction     bonus  \\\n",
       "promoted       1.000000  0.001879  0.010107  0.001410     -0.011704  0.001072   \n",
       "review         0.001879  1.000000  0.000219 -0.184133     -0.349778 -0.003627   \n",
       "projects       0.010107  0.000219  1.000000  0.022596      0.002714  0.002654   \n",
       "tenure         0.001410 -0.184133  0.022596  1.000000     -0.146246 -0.000392   \n",
       "satisfaction  -0.011704 -0.349778  0.002714 -0.146246      1.000000  0.000704   \n",
       "bonus          0.001072 -0.003627  0.002654 -0.000392      0.000704  1.000000   \n",
       "avg_hrs_month -0.002190 -0.196096  0.021299  0.978618     -0.143142 -0.000370   \n",
       "left          -0.036777  0.304294 -0.012408  0.010521     -0.009721 -0.011485   \n",
       "\n",
       "               avg_hrs_month      left  \n",
       "promoted           -0.002190 -0.036777  \n",
       "review             -0.196096  0.304294  \n",
       "projects            0.021299 -0.012408  \n",
       "tenure              0.978618  0.010521  \n",
       "satisfaction       -0.143142 -0.009721  \n",
       "bonus              -0.000370 -0.011485  \n",
       "avg_hrs_month       1.000000  0.009008  \n",
       "left                0.009008  1.000000  "
      ]
     },
     "execution_count": 63,
     "metadata": {},
     "output_type": "execute_result"
    },
    {
     "data": {
      "image/png": "[encoded data removed]",
      "text/plain": [
       "<Figure size 432x288 with 2 Axes>"
      ]
     },
     "metadata": {},
     "output_type": "display_data"
    }
   ],
   "source": [
    "#Correlation Matrix and Heatmap\n",
    "import seaborn as sns\n",
    "corr = df.corr()\n",
    "corr = (corr)\n",
    "sns.heatmap(corr, xticklabels = corr.columns.values,\n",
    "                  yticklabels = corr.columns.values)\n",
    "corr"
   ]
  },
  {
   "cell_type": "markdown",
   "id": "31be09e7-dda1-49dc-9bbe-f476534f1a78",
   "metadata": {},
   "source": [
    "**Findings from the correlation Matrix and Heatmap**\n",
    "\n",
    "Positively Correlated Features:\n",
    "\n",
    "review vs left: 0.304294\n",
    "tenure vs avg_hrs_month: 0.978618\n",
    "Negatively Correlated Features:\n",
    "review vs satisfaction: -0.349778\n",
    "\n",
    "Summary\n",
    "\n",
    "From the heatmap, there is a positive(+) correlation between review, left, tenure and avg_hrs_month. This can be interpreted as:\n",
    "\n",
    "The employees decided to leave or stay based on the review they recieved.\n",
    "The avg_hrs_month is definitely high for the employees working for more number of years.\n",
    "For the negative(-) correlation the review and satisfaction are highly correlated. This can be interpreted as:\n",
    "\n",
    "The employees were not satisfied with the reviews they received."
   ]
  },
  {
   "cell_type": "code",
   "execution_count": 23,
   "id": "d593e399-55ac-4667-8137-b882933ac9b7",
   "metadata": {},
   "outputs": [],
   "source": [
    "df['left'].replace('no', 0, inplace=True)\n",
    "df['left'].replace('yes', 1, inplace=True)"
   ]
  },
  {
   "cell_type": "code",
   "execution_count": 24,
   "id": "d0490a24-fae0-4b0c-a9af-a547923c9e95",
   "metadata": {},
   "outputs": [
    {
     "name": "stdout",
     "output_type": "stream",
     "text": [
      "The mean review for the employee population who did not leave is: 0.635163672768492\n",
      "The mean review for employees that had left is: 0.6922619851915817\n"
     ]
    }
   ],
   "source": [
    "#compare the means of employee left review against the employee population review\n",
    "emp_population = df['review'][df['left'] == 0].mean()\n",
    "emp_turnover_review = df[df['left']==1]['review'].mean()\n",
    "\n",
    "print( 'The mean review for the employee population who did not leave is: ' + str(emp_population))\n",
    "print( 'The mean review for employees that had left is: ' + str(emp_turnover_review) )"
   ]
  },
  {
   "cell_type": "code",
   "execution_count": 27,
   "id": "64612104-87da-4ae6-a2ed-edd296a92239",
   "metadata": {},
   "outputs": [
    {
     "data": {
      "text/plain": [
       "Ttest_1sampResult(statistic=31.59278288897046, pvalue=1.7875413653279587e-187)"
      ]
     },
     "execution_count": 27,
     "metadata": {},
     "output_type": "execute_result"
    }
   ],
   "source": [
    "import scipy.stats as stats\n",
    "stats.ttest_1samp(a=  df[df['left']==1]['review'], # Sample of Employee review who had a Turnover\n",
    "                  popmean = emp_population)  # Employee Who Had No Turnover review mean"
   ]
  },
  {
   "cell_type": "markdown",
   "id": "c38852cd-42f9-426d-95c0-a7f562d8d3e1",
   "metadata": {},
   "source": [
    "T-Test Result\n",
    "\n",
    "The test result shows the test statistic \"t\" is equal to 31.59. This test statistic tells us how much the sample mean deviates from the null hypothesis. If the t-statistic lies outside the quantiles of the t-distribution corresponding to our confidence level and degrees of freedom, we reject the null hypothesis. We can check the quantiles with stats.t.ppf():"
   ]
  },
  {
   "cell_type": "markdown",
   "id": "37b694e5-72ff-4c2a-ac8c-074eb6700f83",
   "metadata": {},
   "source": [
    "T-Test Quantile\n",
    "\n",
    "If the t-statistic value we calculated above (31.59) is outside the quantiles, then we can reject the null hypothesis"
   ]
  },
  {
   "cell_type": "code",
   "execution_count": 29,
   "id": "d2c59e0e-f68f-49b3-9529-d5adef2ed58d",
   "metadata": {},
   "outputs": [
    {
     "name": "stdout",
     "output_type": "stream",
     "text": [
      "The t-distribution left quartile range is: -1.960816457740003\n",
      "The t-distribution right quartile range is: 1.9608164577400025\n"
     ]
    }
   ],
   "source": [
    "degree_freedom = len(df[df['left']==1])\n",
    "\n",
    "LQ = stats.t.ppf(0.025,degree_freedom)  # Left Quartile\n",
    "\n",
    "RQ = stats.t.ppf(0.975,degree_freedom)  # Right Quartile\n",
    "\n",
    "print ('The t-distribution left quartile range is: ' + str(LQ))\n",
    "print ('The t-distribution right quartile range is: ' + str(RQ))"
   ]
  },
  {
   "cell_type": "markdown",
   "id": "be362385-3f71-41cd-bb8a-67a79433ee25",
   "metadata": {},
   "source": [
    "One-Sample T-Test Summary\n",
    "\n",
    "T-Test = 31.59 | P-Value = 1.78 | Accept Null Hypothesis\n",
    "\n",
    "Accept the null hypothesis because:\n",
    "\n",
    "-T-Test score is outside the quantiles -P-value is greater than confidence level of 5% Based on the statistical analysis of a one sample t-test, there seems to no significant difference between the mean review of employees who had a turnover and the entire employee population. The super high P-value of 1.78_ at a 5% confidence level is a good indicator to accept the null hypothesis."
   ]
  },
  {
   "cell_type": "markdown",
   "id": "cfee3f40-6fea-4a67-80e2-129205e51a37",
   "metadata": {},
   "source": [
    "Distribution Plots (Satisfaction - Review - Average Monthly Hours)"
   ]
  },
  {
   "cell_type": "code",
   "execution_count": 31,
   "id": "00f80250-4aef-43b4-b6c4-b197272dfbcf",
   "metadata": {},
   "outputs": [
    {
     "data": {
      "text/plain": [
       "Text(0, 0.5, 'Employee Count')"
      ]
     },
     "execution_count": 31,
     "metadata": {},
     "output_type": "execute_result"
    },
    {
     "data": {
      "image/png": "[encoded data removed]",
      "text/plain": [
       "<Figure size 1080x432 with 3 Axes>"
      ]
     },
     "metadata": {},
     "output_type": "display_data"
    }
   ],
   "source": [
    "import matplotlib.pyplot as plt\n",
    "# Set up the matplotlib figure\n",
    "f, axes = plt.subplots(ncols=3, figsize=(15, 6))\n",
    "\n",
    "# Graph Employee Satisfaction\n",
    "sns.distplot(df.satisfaction, kde=False, color=\"g\", ax=axes[0]).set_title('Employee Satisfaction Distribution')\n",
    "axes[0].set_ylabel('Employee Count')\n",
    "\n",
    "# Graph Employee Review\n",
    "sns.distplot(df.review, kde=False, color=\"r\", ax=axes[1]).set_title('Employee Review Distribution')\n",
    "axes[1].set_ylabel('Employee Count')\n",
    "\n",
    "# Graph Employee Average Monthly Hours\n",
    "sns.distplot(df.avg_hrs_month, kde=False, color=\"b\", ax=axes[2]).set_title('Employee Average Monthly Hours Distribution')\n",
    "axes[2].set_ylabel('Employee Count')"
   ]
  },
  {
   "cell_type": "markdown",
   "id": "4dcf16aa-9e2d-4b44-b601-e3048d3dcd74",
   "metadata": {},
   "source": [
    "Summary: Let's examine the distribution on some of the employee's features. Here's what I found:\n",
    "\n",
    "Satisfaction - There is a huge spike for employees with mean satisfaction (between 0.4 to 0.6).\n",
    "Review - There is a huge spike for employees for mean review (between 0.6 to 0.8)\n",
    "AverageMonthlyHours - There is bimodal distribution of employees with lower and higher average monthly hours (less than 180 hours & more than 185 hours)\n",
    "The review and satisfaction graphs both share a similar distribution.\n",
    "Employees with high review were highly satisfied and vice versa.\n",
    "If you look back at the correlation matrix, the negative high correlation between review and satisfaction does support this finding."
   ]
  },
  {
   "cell_type": "markdown",
   "id": "09226242-ab9e-4853-8a7c-c4ca7e1c61e0",
   "metadata": {},
   "source": [
    "******Salary VS Left******"
   ]
  },
  {
   "cell_type": "code",
   "execution_count": 36,
   "id": "bb51bf1f-0b4b-40dc-b03f-b230f59bcaba",
   "metadata": {},
   "outputs": [
    {
     "data": {
      "image/png": "[encoded data removed]",
      "text/plain": [
       "<Figure size 1080x288 with 1 Axes>"
      ]
     },
     "metadata": {},
     "output_type": "display_data"
    }
   ],
   "source": [
    "f, ax = plt.subplots(figsize=(15, 4))\n",
    "sns.countplot(y=\"salary\", hue='left', data=df).set_title('Employee Salary Turnover Distribution');"
   ]
  },
  {
   "cell_type": "markdown",
   "id": "1e3dadb2-86ea-4e4e-b5ec-3f79929349b8",
   "metadata": {},
   "source": [
    "Summary: This is not unusual. Here's what I found:\n",
    "\n",
    "    Majority of employees who left had medium salary.\n",
    "\n",
    "    Barely any employees left with high salary\n",
    "\n",
    "    Employees with low to average salaries tend to leave the company.\n",
    "\n",
    "Think:\n",
    "\n",
    "    What is the work environment like for low, medium, and high salaries?\n",
    "\n",
    "    What made employees with high salaries to leave?"
   ]
  },
  {
   "cell_type": "markdown",
   "id": "edceb447-760f-49f4-97c2-b96f984b29f1",
   "metadata": {},
   "source": [
    "**Department VS left**"
   ]
  },
  {
   "cell_type": "code",
   "execution_count": 38,
   "id": "2e4311ab-3c82-4dca-8cb4-2103bc1ed04b",
   "metadata": {},
   "outputs": [
    {
     "data": {
      "text/plain": [
       "array(['operations', 'support', 'logistics', 'sales', 'IT', 'admin',\n",
       "       'engineering', 'marketing', 'finance', 'retail'], dtype=object)"
      ]
     },
     "execution_count": 38,
     "metadata": {},
     "output_type": "execute_result"
    }
   ],
   "source": [
    "df['department'].unique()"
   ]
  },
  {
   "cell_type": "code",
   "execution_count": 39,
   "id": "c9609932-924f-4636-9344-d12cc184f408",
   "metadata": {},
   "outputs": [
    {
     "data": {
      "text/plain": [
       "(array([0, 1, 2, 3, 4, 5, 6, 7, 8, 9]),\n",
       " [Text(0, 0, 'operations'),\n",
       "  Text(1, 0, 'support'),\n",
       "  Text(2, 0, 'logistics'),\n",
       "  Text(3, 0, 'sales'),\n",
       "  Text(4, 0, 'IT'),\n",
       "  Text(5, 0, 'admin'),\n",
       "  Text(6, 0, 'engineering'),\n",
       "  Text(7, 0, 'marketing'),\n",
       "  Text(8, 0, 'finance'),\n",
       "  Text(9, 0, 'retail')])"
      ]
     },
     "execution_count": 39,
     "metadata": {},
     "output_type": "execute_result"
    },
    {
     "data": {
      "image/png": "[encoded data removed]",
      "text/plain": [
       "<Figure size 432x288 with 1 Axes>"
      ]
     },
     "metadata": {},
     "output_type": "display_data"
    }
   ],
   "source": [
    "# Employee distribution\n",
    "# Types of colors\n",
    "color_types = ['#78C850','#F08030','#6890F0','#A8B820','#A8A878','#A040A0','#F8D030',  \n",
    "                '#E0C068','#EE99AC','#C03028','#F85888','#B8A038','#705898','#98D8D8','#7038F8']\n",
    "\n",
    "# Count Plot (a.k.a. Bar Plot)\n",
    "sns.countplot(x='department', data=df, palette=color_types).set_title('Employee Department Distribution');\n",
    " \n",
    "# Rotate x-labels\n",
    "plt.xticks(rotation=-45)"
   ]
  },
  {
   "cell_type": "markdown",
   "id": "e18c0084-39ed-43d0-a017-c471a0aeaf24",
   "metadata": {},
   "source": [
    "Operation, Sales, Engineering and Retail departments had the most number of employees. The Sales department was the highest and the logistics and IT department were the lowest."
   ]
  },
  {
   "cell_type": "code",
   "execution_count": 40,
   "id": "dd402e17-ca00-4d9a-9be8-a826553f6b04",
   "metadata": {},
   "outputs": [
    {
     "data": {
      "image/png": "[encoded data removed]",
      "text/plain": [
       "<Figure size 1080x360 with 1 Axes>"
      ]
     },
     "metadata": {},
     "output_type": "display_data"
    }
   ],
   "source": [
    "f, ax = plt.subplots(figsize=(15, 5))\n",
    "sns.countplot(y=\"department\", hue='left', data=df).set_title('Employee Department Turnover Distribution');"
   ]
  },
  {
   "cell_type": "markdown",
   "id": "e1c10946-0bc0-4143-a274-49ebd72a4675",
   "metadata": {},
   "source": [
    "Summary: Let's see more information about the departments. Here's what I found:\n",
    "\n",
    "The sales, retail, and engineering department were the top 3 departments to have employee turnover The IT department had the smallest amount of turnover\n",
    "\n",
    "Think:\n",
    "\n",
    "If we had more information on each department, can we pinpoint a more direct cause for employee turnover?"
   ]
  },
  {
   "cell_type": "markdown",
   "id": "23766d93-16c3-41ab-af44-7a7e4d97da61",
   "metadata": {},
   "source": [
    "**Project VS Left**"
   ]
  },
  {
   "cell_type": "code",
   "execution_count": 42,
   "id": "49b5c5b1-8e43-408f-b30a-7bbad2eae8c5",
   "metadata": {},
   "outputs": [
    {
     "data": {
      "text/plain": [
       "[Text(0, 0.5, 'Percent')]"
      ]
     },
     "execution_count": 42,
     "metadata": {},
     "output_type": "execute_result"
    },
    {
     "data": {
      "image/png": "[encoded data removed]",
      "text/plain": [
       "<Figure size 432x288 with 1 Axes>"
      ]
     },
     "metadata": {},
     "output_type": "display_data"
    }
   ],
   "source": [
    "ax = sns.barplot(x=\"projects\", y=\"projects\", hue=\"left\", data=df, estimator=lambda x: len(x) / len(df) * 100)\n",
    "ax.set(ylabel=\"Percent\")"
   ]
  },
  {
   "cell_type": "markdown",
   "id": "b9513c97-e2f3-4e97-bd61-9bb8c8bbe636",
   "metadata": {},
   "source": [
    "Summary: This graph is quite interesting as well. Here's what I found:\n",
    "\n",
    "More than half of the employees with 3 and 4 projects left the company\n",
    "\n",
    "Majority of the employees who did not leave the company had 2 and 5 projects\n",
    "\n",
    "There is an decrease in employee turnover rate as project count increases\n",
    "\n",
    "Think:\n",
    "\n",
    "Why are employees leaving at the lower/higher spectrum of project counts?\n",
    "\n",
    "Does this means that employees with project counts 2 or less are not having to work hard causing less tension, thus not leaving the company?\n",
    "\n",
    "Do employees with 3+ projects are getting overworked, thus leaving the company?"
   ]
  },
  {
   "cell_type": "markdown",
   "id": "f1ca494f-373d-4249-b8af-2bebd046cb85",
   "metadata": {},
   "source": [
    "**Left VS Review**"
   ]
  },
  {
   "cell_type": "code",
   "execution_count": 43,
   "id": "855e6eee-ab8a-4f8b-8033-c47b89885650",
   "metadata": {},
   "outputs": [
    {
     "data": {
      "text/plain": [
       "Text(0.5, 1.0, 'Employee Evaluation Distribution - Turnover V.S. No Turnover')"
      ]
     },
     "execution_count": 43,
     "metadata": {},
     "output_type": "execute_result"
    },
    {
     "data": {
      "image/png": "[encoded data removed]",
      "text/plain": [
       "<Figure size 1080x288 with 1 Axes>"
      ]
     },
     "metadata": {},
     "output_type": "display_data"
    }
   ],
   "source": [
    "# Kernel Density Plot\n",
    "fig = plt.figure(figsize=(15,4),)\n",
    "ax=sns.kdeplot(df.loc[(df['left'] == 0),'review'] , color='b',shade=True,label='no turnover')\n",
    "ax=sns.kdeplot(df.loc[(df['left'] == 1),'review'] , color='r',shade=True, label='turnover')\n",
    "ax.set(xlabel='Employee Evaluation', ylabel='Frequency')\n",
    "plt.title('Employee Evaluation Distribution - Turnover V.S. No Turnover')"
   ]
  },
  {
   "cell_type": "markdown",
   "id": "5fbc2916-ae88-45cb-8892-cce0d348ee1b",
   "metadata": {},
   "source": [
    "Summary:\n",
    "\n",
    "Employees with high performance or review tend to leave the company more.\n",
    "\n",
    "Employees that stayed is within 0.5 to 0.7 review.\n",
    "\n",
    "There is a normal distribution for no turnover."
   ]
  },
  {
   "cell_type": "markdown",
   "id": "5970be0e-c4b3-4f25-bda0-081333724399",
   "metadata": {},
   "source": [
    "**Left VS AverageMonthlyHours**"
   ]
  },
  {
   "cell_type": "code",
   "execution_count": 45,
   "id": "f6630658-2432-41af-84d6-63de96e273d5",
   "metadata": {},
   "outputs": [
    {
     "data": {
      "text/plain": [
       "Text(0.5, 1.0, 'Employee AverageMonthly Hours Distribution - Turnover V.S. No Turnover')"
      ]
     },
     "execution_count": 45,
     "metadata": {},
     "output_type": "execute_result"
    },
    {
     "data": {
      "image/png": "[encoded data removed]",
      "text/plain": [
       "<Figure size 1080x288 with 1 Axes>"
      ]
     },
     "metadata": {},
     "output_type": "display_data"
    }
   ],
   "source": [
    "#Kernel Density Estimate Plot\n",
    "fig = plt.figure(figsize=(15,4))\n",
    "ax=sns.kdeplot(df.loc[(df['left'] == 0),'avg_hrs_month'] , color='b',shade=True, label='no turnover')\n",
    "ax=sns.kdeplot(df.loc[(df['left'] == 1),'avg_hrs_month'] , color='r',shade=True, label='turnover')\n",
    "ax.set(xlabel='Employee Average Monthly Hours', ylabel='Frequency')\n",
    "plt.title('Employee AverageMonthly Hours Distribution - Turnover V.S. No Turnover')"
   ]
  },
  {
   "cell_type": "markdown",
   "id": "01e6bc4c-cb74-4415-9c0e-6146e26de6cd",
   "metadata": {},
   "source": [
    "Summary:\n",
    "\n",
    "Employees who left generally were underworked or overworked."
   ]
  },
  {
   "cell_type": "markdown",
   "id": "0601517a-2c7f-4e50-8709-c4565657c305",
   "metadata": {},
   "source": [
    "**Left VS Satisfaction**"
   ]
  },
  {
   "cell_type": "code",
   "execution_count": 47,
   "id": "acee2557-669c-4426-800a-a496a0300073",
   "metadata": {},
   "outputs": [
    {
     "data": {
      "text/plain": [
       "Text(0.5, 1.0, 'Employee Satisfaction Distribution - Turnover V.S. No Turnover')"
      ]
     },
     "execution_count": 47,
     "metadata": {},
     "output_type": "execute_result"
    },
    {
     "data": {
      "image/png": "[encoded data removed]",
      "text/plain": [
       "<Figure size 1080x288 with 1 Axes>"
      ]
     },
     "metadata": {},
     "output_type": "display_data"
    }
   ],
   "source": [
    "#KDEPlot: Kernel Density Estimate Plot\n",
    "fig = plt.figure(figsize=(15,4))\n",
    "ax=sns.kdeplot(df.loc[(df['left'] == 0),'satisfaction'] , color='b',shade=True, label='no turnover')\n",
    "ax=sns.kdeplot(df.loc[(df['left'] == 1),'satisfaction'] , color='r',shade=True, label='turnover')\n",
    "plt.title('Employee Satisfaction Distribution - Turnover V.S. No Turnover')"
   ]
  },
  {
   "cell_type": "markdown",
   "id": "40153d61-e7db-43ed-86f9-1a618d3e172a",
   "metadata": {},
   "source": [
    "Summary:\n",
    "\n",
    "Employees turnover does not depand on whether they were satisfied or not."
   ]
  },
  {
   "cell_type": "markdown",
   "id": "8c2c8b30-fb92-40dc-91ea-7262f373d587",
   "metadata": {},
   "source": [
    "Questions:\n",
    "\n",
    "Shouldn't employees with lower evaluations tend to leave the company more?"
   ]
  },
  {
   "cell_type": "markdown",
   "id": "632c3da9-a6ad-420c-9a2a-cd9628d66e78",
   "metadata": {},
   "source": [
    "**Left V.S. Tenure**"
   ]
  },
  {
   "cell_type": "code",
   "execution_count": 51,
   "id": "598c8a22-b907-4de9-bfdf-87e83a53bd98",
   "metadata": {},
   "outputs": [
    {
     "data": {
      "text/plain": [
       "[Text(0, 0.5, 'Percent')]"
      ]
     },
     "execution_count": 51,
     "metadata": {},
     "output_type": "execute_result"
    },
    {
     "data": {
      "image/png": "[encoded data removed]",
      "text/plain": [
       "<Figure size 432x288 with 1 Axes>"
      ]
     },
     "metadata": {},
     "output_type": "display_data"
    }
   ],
   "source": [
    "ax = sns.barplot(x=\"tenure\", y=\"tenure\", hue=\"left\", data=df, estimator=lambda x: len(x) / len(df) * 100)\n",
    "ax.set(ylabel=\"Percent\")"
   ]
  },
  {
   "cell_type": "markdown",
   "id": "594242a2-1210-4b7d-a11f-a0cf00ba88fd",
   "metadata": {},
   "source": [
    "Summary:\n",
    "\n",
    "Employees who have worked for more number of years had left more.\n",
    "\n",
    "Employees between 5 to 8 years of work stayed.\n",
    "\n",
    "Employees between 7 to 9 years of work left more."
   ]
  },
  {
   "cell_type": "markdown",
   "id": "110f26be-dc46-424f-8f59-6585168927a8",
   "metadata": {},
   "source": [
    "**Left vs Promoted**"
   ]
  },
  {
   "cell_type": "code",
   "execution_count": 49,
   "id": "e6f6fb0c-56f0-41ce-9dd4-42c9b297f020",
   "metadata": {},
   "outputs": [
    {
     "data": {
      "text/plain": [
       "[Text(0, 0.5, 'Percent')]"
      ]
     },
     "execution_count": 49,
     "metadata": {},
     "output_type": "execute_result"
    },
    {
     "data": {
      "image/png": "[encoded data removed]",
      "text/plain": [
       "<Figure size 432x288 with 1 Axes>"
      ]
     },
     "metadata": {},
     "output_type": "display_data"
    }
   ],
   "source": [
    "ax = sns.barplot(x=\"promoted\", y=\"promoted\", hue=\"left\", data=df, estimator=lambda x: len(x) / len(df) * 100)\n",
    "ax.set(ylabel=\"Percent\")"
   ]
  },
  {
   "cell_type": "markdown",
   "id": "6621e304-750e-41ff-acad-a112b51ca4f5",
   "metadata": {},
   "source": [
    "Summary:\n",
    "\n",
    "The turnover was high for those who did not get promoted."
   ]
  },
  {
   "cell_type": "markdown",
   "id": "6dcbd308-1b3c-4721-aba2-c813f20ec216",
   "metadata": {},
   "source": [
    "**Conclusion**\n",
    "Based on several findings and exploration of the dataset, we can conclude the following:\n",
    "\n",
    "Employees with high review were highly satisfied and vice versa.\n",
    "\n",
    "Majority of employees who left had medium salary.\n",
    "\n",
    "The sales, retail, and engineering department were the top 3 departments to have employee turnover. The IT department had the smallest amount of turnover.\n",
    "\n",
    "Review variable turned out to be the better predictor for employee turnover.\n",
    "\n",
    "Employees with 3 and 4 projects left the company.\n",
    "\n",
    "Employees with high performance or review tend to leave the company more.\n",
    "\n",
    "Employees who left generally were underworked or overworked.\n",
    "\n",
    "Employees left despite having high review for 5 projects. This can be due to the workload of handling many projects at the same time.\n",
    "\n",
    "Employees between 7 to 9 years of work left more.\n",
    "\n",
    "Employees who did not get promoted left more."
   ]
  },
  {
   "cell_type": "markdown",
   "id": "ebf77f49-f93e-4f4b-85da-4554fd3a4edc",
   "metadata": {},
   "source": [
    "**Recommendations:**\n",
    "Even though the employees with high review were highly satisfied but with 5 projects or more left the company. This is can be due to overworking. The solution to this can be providing better work life balance. Providing a supportive team to carry out the project. Motivate the employees more by giving high incentives or bonus.\n",
    "Since the departments - sales, retail and engineering had the highest turnover rate, a more thorough investigation must be done as to why this was happening.\n",
    "Some employees left despite the high review. This could have been because the employees did not recieve the good amount of salary or incentives despite their excellent performances. Therefore, increasing the salary or giving extra benefits or motivation to high performing employees can result in decreased turnover.\n",
    "Employees who were highly experienced i.e., 7 to 9 years of work, left more. With high experience the employees could have got better options of work in some other places. Therefore, doing an in depth study of why highly experienced employees left could result in decreased turnover."
   ]
  },
  {
   "cell_type": "code",
   "execution_count": null,
   "id": "593cf6d1-7607-46e0-8c94-63ef868c7b87",
   "metadata": {},
   "outputs": [],
   "source": []
  }
 ],
 "metadata": {
  "kernelspec": {
   "display_name": "Python 3 (ipykernel)",
   "language": "python",
   "name": "python3"
  },
  "language_info": {
   "codemirror_mode": {
    "name": "ipython",
    "version": 3
   },
   "file_extension": ".py",
   "mimetype": "text/x-python",
   "name": "python",
   "nbconvert_exporter": "python",
   "pygments_lexer": "ipython3",
   "version": "3.9.7"
  }
 },
 "nbformat": 4,
 "nbformat_minor": 5
}
