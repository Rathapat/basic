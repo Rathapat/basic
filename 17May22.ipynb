{
 "cells": [
  {
   "cell_type": "code",
   "execution_count": 1,
   "id": "bf826162-69c1-4995-bd98-2a033883020e",
   "metadata": {},
   "outputs": [],
   "source": [
    "import pandas as pd \n",
    "import numpy as np \n",
    "import matplotlib.pyplot as plt\n",
    "import seaborn as sns\n",
    "from sklearn.model_selection import train_test_split\n",
    "from sklearn.tree import DecisionTreeClassifier\n",
    "from sklearn.metrics import classification_report,confusion_matrix\n",
    "from sklearn import tree"
   ]
  },
  {
   "cell_type": "code",
   "execution_count": 2,
   "id": "28fc9eb8-0435-438c-9473-10874193f174",
   "metadata": {},
   "outputs": [
    {
     "data": {
      "text/html": [
       "<div>\n",
       "<style scoped>\n",
       "    .dataframe tbody tr th:only-of-type {\n",
       "        vertical-align: middle;\n",
       "    }\n",
       "\n",
       "    .dataframe tbody tr th {\n",
       "        vertical-align: top;\n",
       "    }\n",
       "\n",
       "    .dataframe thead th {\n",
       "        text-align: right;\n",
       "    }\n",
       "</style>\n",
       "<table border=\"1\" class=\"dataframe\">\n",
       "  <thead>\n",
       "    <tr style=\"text-align: right;\">\n",
       "      <th></th>\n",
       "      <th>department</th>\n",
       "      <th>promoted</th>\n",
       "      <th>review</th>\n",
       "      <th>projects</th>\n",
       "      <th>salary</th>\n",
       "      <th>tenure</th>\n",
       "      <th>satisfaction</th>\n",
       "      <th>bonus</th>\n",
       "      <th>avg_hrs_month</th>\n",
       "      <th>left</th>\n",
       "    </tr>\n",
       "  </thead>\n",
       "  <tbody>\n",
       "    <tr>\n",
       "      <th>0</th>\n",
       "      <td>operations</td>\n",
       "      <td>0</td>\n",
       "      <td>0.577569</td>\n",
       "      <td>3</td>\n",
       "      <td>low</td>\n",
       "      <td>5.0</td>\n",
       "      <td>0.626759</td>\n",
       "      <td>0</td>\n",
       "      <td>180.866070</td>\n",
       "      <td>no</td>\n",
       "    </tr>\n",
       "    <tr>\n",
       "      <th>1</th>\n",
       "      <td>operations</td>\n",
       "      <td>0</td>\n",
       "      <td>0.751900</td>\n",
       "      <td>3</td>\n",
       "      <td>medium</td>\n",
       "      <td>6.0</td>\n",
       "      <td>0.443679</td>\n",
       "      <td>0</td>\n",
       "      <td>182.708149</td>\n",
       "      <td>no</td>\n",
       "    </tr>\n",
       "    <tr>\n",
       "      <th>2</th>\n",
       "      <td>support</td>\n",
       "      <td>0</td>\n",
       "      <td>0.722548</td>\n",
       "      <td>3</td>\n",
       "      <td>medium</td>\n",
       "      <td>6.0</td>\n",
       "      <td>0.446823</td>\n",
       "      <td>0</td>\n",
       "      <td>184.416084</td>\n",
       "      <td>no</td>\n",
       "    </tr>\n",
       "    <tr>\n",
       "      <th>3</th>\n",
       "      <td>logistics</td>\n",
       "      <td>0</td>\n",
       "      <td>0.675158</td>\n",
       "      <td>4</td>\n",
       "      <td>high</td>\n",
       "      <td>8.0</td>\n",
       "      <td>0.440139</td>\n",
       "      <td>0</td>\n",
       "      <td>188.707545</td>\n",
       "      <td>no</td>\n",
       "    </tr>\n",
       "    <tr>\n",
       "      <th>4</th>\n",
       "      <td>sales</td>\n",
       "      <td>0</td>\n",
       "      <td>0.676203</td>\n",
       "      <td>3</td>\n",
       "      <td>high</td>\n",
       "      <td>5.0</td>\n",
       "      <td>0.577607</td>\n",
       "      <td>1</td>\n",
       "      <td>179.821083</td>\n",
       "      <td>no</td>\n",
       "    </tr>\n",
       "    <tr>\n",
       "      <th>...</th>\n",
       "      <td>...</td>\n",
       "      <td>...</td>\n",
       "      <td>...</td>\n",
       "      <td>...</td>\n",
       "      <td>...</td>\n",
       "      <td>...</td>\n",
       "      <td>...</td>\n",
       "      <td>...</td>\n",
       "      <td>...</td>\n",
       "      <td>...</td>\n",
       "    </tr>\n",
       "    <tr>\n",
       "      <th>9535</th>\n",
       "      <td>operations</td>\n",
       "      <td>0</td>\n",
       "      <td>0.610988</td>\n",
       "      <td>4</td>\n",
       "      <td>medium</td>\n",
       "      <td>8.0</td>\n",
       "      <td>0.543641</td>\n",
       "      <td>0</td>\n",
       "      <td>188.155738</td>\n",
       "      <td>yes</td>\n",
       "    </tr>\n",
       "    <tr>\n",
       "      <th>9536</th>\n",
       "      <td>logistics</td>\n",
       "      <td>0</td>\n",
       "      <td>0.746887</td>\n",
       "      <td>3</td>\n",
       "      <td>medium</td>\n",
       "      <td>8.0</td>\n",
       "      <td>0.549048</td>\n",
       "      <td>0</td>\n",
       "      <td>188.176164</td>\n",
       "      <td>yes</td>\n",
       "    </tr>\n",
       "    <tr>\n",
       "      <th>9537</th>\n",
       "      <td>operations</td>\n",
       "      <td>0</td>\n",
       "      <td>0.557980</td>\n",
       "      <td>3</td>\n",
       "      <td>low</td>\n",
       "      <td>7.0</td>\n",
       "      <td>0.705425</td>\n",
       "      <td>0</td>\n",
       "      <td>186.531008</td>\n",
       "      <td>yes</td>\n",
       "    </tr>\n",
       "    <tr>\n",
       "      <th>9538</th>\n",
       "      <td>IT</td>\n",
       "      <td>0</td>\n",
       "      <td>0.584446</td>\n",
       "      <td>4</td>\n",
       "      <td>medium</td>\n",
       "      <td>8.0</td>\n",
       "      <td>0.607287</td>\n",
       "      <td>1</td>\n",
       "      <td>187.641370</td>\n",
       "      <td>yes</td>\n",
       "    </tr>\n",
       "    <tr>\n",
       "      <th>9539</th>\n",
       "      <td>finance</td>\n",
       "      <td>0</td>\n",
       "      <td>0.626373</td>\n",
       "      <td>3</td>\n",
       "      <td>low</td>\n",
       "      <td>7.0</td>\n",
       "      <td>0.706455</td>\n",
       "      <td>1</td>\n",
       "      <td>185.920934</td>\n",
       "      <td>yes</td>\n",
       "    </tr>\n",
       "  </tbody>\n",
       "</table>\n",
       "<p>9540 rows × 10 columns</p>\n",
       "</div>"
      ],
      "text/plain": [
       "      department  promoted    review  projects  salary  tenure  satisfaction  \\\n",
       "0     operations         0  0.577569         3     low     5.0      0.626759   \n",
       "1     operations         0  0.751900         3  medium     6.0      0.443679   \n",
       "2        support         0  0.722548         3  medium     6.0      0.446823   \n",
       "3      logistics         0  0.675158         4    high     8.0      0.440139   \n",
       "4          sales         0  0.676203         3    high     5.0      0.577607   \n",
       "...          ...       ...       ...       ...     ...     ...           ...   \n",
       "9535  operations         0  0.610988         4  medium     8.0      0.543641   \n",
       "9536   logistics         0  0.746887         3  medium     8.0      0.549048   \n",
       "9537  operations         0  0.557980         3     low     7.0      0.705425   \n",
       "9538          IT         0  0.584446         4  medium     8.0      0.607287   \n",
       "9539     finance         0  0.626373         3     low     7.0      0.706455   \n",
       "\n",
       "      bonus  avg_hrs_month left  \n",
       "0         0     180.866070   no  \n",
       "1         0     182.708149   no  \n",
       "2         0     184.416084   no  \n",
       "3         0     188.707545   no  \n",
       "4         1     179.821083   no  \n",
       "...     ...            ...  ...  \n",
       "9535      0     188.155738  yes  \n",
       "9536      0     188.176164  yes  \n",
       "9537      0     186.531008  yes  \n",
       "9538      1     187.641370  yes  \n",
       "9539      1     185.920934  yes  \n",
       "\n",
       "[9540 rows x 10 columns]"
      ]
     },
     "execution_count": 2,
     "metadata": {},
     "output_type": "execute_result"
    }
   ],
   "source": [
    "data = pd.read_csv('employee_churn_data.csv')\n",
    "data.tail(9540)"
   ]
  },
  {
   "cell_type": "code",
   "execution_count": 3,
   "id": "d8c78cd8-1a28-4b04-bd78-c2c1e74148ac",
   "metadata": {},
   "outputs": [],
   "source": [
    "df = data.copy()"
   ]
  },
  {
   "cell_type": "code",
   "execution_count": 4,
   "id": "f2e61c1c-bb61-4058-84ce-1ae58d900e08",
   "metadata": {},
   "outputs": [
    {
     "name": "stdout",
     "output_type": "stream",
     "text": [
      "Dataset Shape\n",
      "\n",
      "Number of Employee Observations : 9540\n",
      "Number of features : 10\n",
      "Number of different departments : 10\n"
     ]
    }
   ],
   "source": [
    "# Checking clean shape and nº of employees\n",
    "rows, cols = df.shape \n",
    "departments = df.department.unique().shape[0]\n",
    "\n",
    "print(f'Dataset Shape\\n\\nNumber of Employee Observations : {rows}\\nNumber of features : {cols}\\nNumber of different departments : {departments}')"
   ]
  },
  {
   "cell_type": "code",
   "execution_count": 5,
   "id": "847785f1-e2b5-4ebd-9209-73b86efba1aa",
   "metadata": {},
   "outputs": [
    {
     "name": "stdout",
     "output_type": "stream",
     "text": [
      "<class 'pandas.core.frame.DataFrame'>\n",
      "RangeIndex: 9540 entries, 0 to 9539\n",
      "Data columns (total 10 columns):\n",
      " #   Column         Non-Null Count  Dtype  \n",
      "---  ------         --------------  -----  \n",
      " 0   department     9540 non-null   object \n",
      " 1   promoted       9540 non-null   int64  \n",
      " 2   review         9540 non-null   float64\n",
      " 3   projects       9540 non-null   int64  \n",
      " 4   salary         9540 non-null   object \n",
      " 5   tenure         9540 non-null   float64\n",
      " 6   satisfaction   9540 non-null   float64\n",
      " 7   bonus          9540 non-null   int64  \n",
      " 8   avg_hrs_month  9540 non-null   float64\n",
      " 9   left           9540 non-null   object \n",
      "dtypes: float64(4), int64(3), object(3)\n",
      "memory usage: 745.4+ KB\n"
     ]
    }
   ],
   "source": [
    "# Checking general info\n",
    "df.info()"
   ]
  },
  {
   "cell_type": "code",
   "execution_count": 6,
   "id": "393d7756-0628-489c-8e7d-cb9b974bd431",
   "metadata": {},
   "outputs": [
    {
     "data": {
      "text/html": [
       "<div>\n",
       "<style scoped>\n",
       "    .dataframe tbody tr th:only-of-type {\n",
       "        vertical-align: middle;\n",
       "    }\n",
       "\n",
       "    .dataframe tbody tr th {\n",
       "        vertical-align: top;\n",
       "    }\n",
       "\n",
       "    .dataframe thead th {\n",
       "        text-align: right;\n",
       "    }\n",
       "</style>\n",
       "<table border=\"1\" class=\"dataframe\">\n",
       "  <thead>\n",
       "    <tr style=\"text-align: right;\">\n",
       "      <th></th>\n",
       "      <th>left</th>\n",
       "    </tr>\n",
       "    <tr>\n",
       "      <th>department</th>\n",
       "      <th></th>\n",
       "    </tr>\n",
       "  </thead>\n",
       "  <tbody>\n",
       "    <tr>\n",
       "      <th>finance</th>\n",
       "      <td>108</td>\n",
       "    </tr>\n",
       "    <tr>\n",
       "      <th>IT</th>\n",
       "      <td>110</td>\n",
       "    </tr>\n",
       "    <tr>\n",
       "      <th>logistics</th>\n",
       "      <td>111</td>\n",
       "    </tr>\n",
       "    <tr>\n",
       "      <th>admin</th>\n",
       "      <td>119</td>\n",
       "    </tr>\n",
       "    <tr>\n",
       "      <th>support</th>\n",
       "      <td>212</td>\n",
       "    </tr>\n",
       "    <tr>\n",
       "      <th>marketing</th>\n",
       "      <td>243</td>\n",
       "    </tr>\n",
       "    <tr>\n",
       "      <th>operations</th>\n",
       "      <td>436</td>\n",
       "    </tr>\n",
       "    <tr>\n",
       "      <th>engineering</th>\n",
       "      <td>437</td>\n",
       "    </tr>\n",
       "    <tr>\n",
       "      <th>retail</th>\n",
       "      <td>471</td>\n",
       "    </tr>\n",
       "    <tr>\n",
       "      <th>sales</th>\n",
       "      <td>537</td>\n",
       "    </tr>\n",
       "  </tbody>\n",
       "</table>\n",
       "</div>"
      ],
      "text/plain": [
       "             left\n",
       "department       \n",
       "finance       108\n",
       "IT            110\n",
       "logistics     111\n",
       "admin         119\n",
       "support       212\n",
       "marketing     243\n",
       "operations    436\n",
       "engineering   437\n",
       "retail        471\n",
       "sales         537"
      ]
     },
     "execution_count": 6,
     "metadata": {},
     "output_type": "execute_result"
    }
   ],
   "source": [
    "# Department with sorted number of employee turnovers: from highest to lowest\n",
    "no_turnover = df[df.left == 'yes'].groupby('department').left.count().sort_values()\n",
    "\n",
    "no_turnover.to_frame()"
   ]
  },
  {
   "cell_type": "code",
   "execution_count": 7,
   "id": "595ce08d-f35c-4041-8781-d23f4b1a55d4",
   "metadata": {},
   "outputs": [
    {
     "data": {
      "text/plain": [
       "no     0.708176\n",
       "yes    0.291824\n",
       "Name: left, dtype: float64"
      ]
     },
     "execution_count": 7,
     "metadata": {},
     "output_type": "execute_result"
    }
   ],
   "source": [
    "turnover_rate = df.left.value_counts()/len(df)\n",
    "turnover_rate"
   ]
  },
  {
   "cell_type": "markdown",
   "id": "2276bfef-fc05-4278-8405-bebc4eca0135",
   "metadata": {},
   "source": [
    "Looks like about 29% of the employees left."
   ]
  },
  {
   "cell_type": "code",
   "execution_count": 8,
   "id": "5b3211ee-ed8a-4c8b-9ed8-387b577e3372",
   "metadata": {},
   "outputs": [
    {
     "data": {
      "image/png": "[encoded data removed]",
      "text/plain": [
       "<Figure size 576x432 with 1 Axes>"
      ]
     },
     "metadata": {
      "needs_background": "light"
     },
     "output_type": "display_data"
    }
   ],
   "source": [
    "# Department with sorted number of employee turnovers: from highest to lowest\n",
    "\n",
    "fig, ax = plt.subplots(figsize=(8, 6))\n",
    "no_turnover.plot.barh(ax=ax, title=\"Plot of Employee Turnover for each Department\", colormap='Dark2')\n",
    "plt.xlabel(\"Number of Employees that left\")\n",
    "plt.ylabel(\"Departments\")\n",
    "plt.show()"
   ]
  },
  {
   "cell_type": "markdown",
   "id": "d300b56e-41c5-4f3a-8f9a-517b7ea4ecf4",
   "metadata": {},
   "source": [
    "1. Which department has the highest employee turnover? Which one has the lowest?\n",
    "\n",
    "The Department with the highest number of employee turnover as seen above is the Sales department,\n",
    "\n",
    "while the departments with the least is the Finance and IT department."
   ]
  },
  {
   "cell_type": "code",
   "execution_count": 9,
   "id": "5a663a71-3d07-4de0-9b02-2f7d953ee9f6",
   "metadata": {},
   "outputs": [],
   "source": [
    "# convert all relevant features into categorical variables\n",
    "category_vars = ['department', 'promoted', 'salary', 'bonus', 'left']\n",
    "numeric_vars = ['review', 'projects', 'tenure', 'avg_hours_month']\n",
    "\n",
    "data[category_vars] = data[category_vars].apply(lambda x: x.astype('category'))\n",
    "\n",
    "# rename specific categories\n",
    "binary_changes = {0: \"no\", 1: \"yes\"}\n",
    "data[['promoted', 'bonus']] = data[['promoted', 'bonus']].apply(lambda x: x.cat.rename_categories(binary_changes))\n",
    "\n",
    "# change 'tenure' from a float to an integer\n",
    "data['tenure'] = data['tenure'].astype('int64')"
   ]
  },
  {
   "cell_type": "code",
   "execution_count": 10,
   "id": "098ecce4-e2d6-4503-bd93-1e6686304a2d",
   "metadata": {},
   "outputs": [
    {
     "name": "stdout",
     "output_type": "stream",
     "text": [
      "<class 'pandas.core.frame.DataFrame'>\n",
      "RangeIndex: 9540 entries, 0 to 9539\n",
      "Data columns (total 10 columns):\n",
      " #   Column         Non-Null Count  Dtype   \n",
      "---  ------         --------------  -----   \n",
      " 0   department     9540 non-null   category\n",
      " 1   promoted       9540 non-null   category\n",
      " 2   review         9540 non-null   float64 \n",
      " 3   projects       9540 non-null   int64   \n",
      " 4   salary         9540 non-null   category\n",
      " 5   tenure         9540 non-null   int64   \n",
      " 6   satisfaction   9540 non-null   float64 \n",
      " 7   bonus          9540 non-null   category\n",
      " 8   avg_hrs_month  9540 non-null   float64 \n",
      " 9   left           9540 non-null   category\n",
      "dtypes: category(5), float64(3), int64(2)\n",
      "memory usage: 420.2 KB\n"
     ]
    },
    {
     "data": {
      "text/html": [
       "<div>\n",
       "<style scoped>\n",
       "    .dataframe tbody tr th:only-of-type {\n",
       "        vertical-align: middle;\n",
       "    }\n",
       "\n",
       "    .dataframe tbody tr th {\n",
       "        vertical-align: top;\n",
       "    }\n",
       "\n",
       "    .dataframe thead th {\n",
       "        text-align: right;\n",
       "    }\n",
       "</style>\n",
       "<table border=\"1\" class=\"dataframe\">\n",
       "  <thead>\n",
       "    <tr style=\"text-align: right;\">\n",
       "      <th></th>\n",
       "      <th>department</th>\n",
       "      <th>promoted</th>\n",
       "      <th>review</th>\n",
       "      <th>projects</th>\n",
       "      <th>salary</th>\n",
       "      <th>tenure</th>\n",
       "      <th>satisfaction</th>\n",
       "      <th>bonus</th>\n",
       "      <th>avg_hrs_month</th>\n",
       "      <th>left</th>\n",
       "    </tr>\n",
       "  </thead>\n",
       "  <tbody>\n",
       "    <tr>\n",
       "      <th>0</th>\n",
       "      <td>operations</td>\n",
       "      <td>no</td>\n",
       "      <td>0.577569</td>\n",
       "      <td>3</td>\n",
       "      <td>low</td>\n",
       "      <td>5</td>\n",
       "      <td>0.626759</td>\n",
       "      <td>no</td>\n",
       "      <td>180.866070</td>\n",
       "      <td>no</td>\n",
       "    </tr>\n",
       "    <tr>\n",
       "      <th>1</th>\n",
       "      <td>operations</td>\n",
       "      <td>no</td>\n",
       "      <td>0.751900</td>\n",
       "      <td>3</td>\n",
       "      <td>medium</td>\n",
       "      <td>6</td>\n",
       "      <td>0.443679</td>\n",
       "      <td>no</td>\n",
       "      <td>182.708149</td>\n",
       "      <td>no</td>\n",
       "    </tr>\n",
       "    <tr>\n",
       "      <th>2</th>\n",
       "      <td>support</td>\n",
       "      <td>no</td>\n",
       "      <td>0.722548</td>\n",
       "      <td>3</td>\n",
       "      <td>medium</td>\n",
       "      <td>6</td>\n",
       "      <td>0.446823</td>\n",
       "      <td>no</td>\n",
       "      <td>184.416084</td>\n",
       "      <td>no</td>\n",
       "    </tr>\n",
       "    <tr>\n",
       "      <th>3</th>\n",
       "      <td>logistics</td>\n",
       "      <td>no</td>\n",
       "      <td>0.675158</td>\n",
       "      <td>4</td>\n",
       "      <td>high</td>\n",
       "      <td>8</td>\n",
       "      <td>0.440139</td>\n",
       "      <td>no</td>\n",
       "      <td>188.707545</td>\n",
       "      <td>no</td>\n",
       "    </tr>\n",
       "    <tr>\n",
       "      <th>4</th>\n",
       "      <td>sales</td>\n",
       "      <td>no</td>\n",
       "      <td>0.676203</td>\n",
       "      <td>3</td>\n",
       "      <td>high</td>\n",
       "      <td>5</td>\n",
       "      <td>0.577607</td>\n",
       "      <td>yes</td>\n",
       "      <td>179.821083</td>\n",
       "      <td>no</td>\n",
       "    </tr>\n",
       "  </tbody>\n",
       "</table>\n",
       "</div>"
      ],
      "text/plain": [
       "   department promoted    review  projects  salary  tenure  satisfaction  \\\n",
       "0  operations       no  0.577569         3     low       5      0.626759   \n",
       "1  operations       no  0.751900         3  medium       6      0.443679   \n",
       "2     support       no  0.722548         3  medium       6      0.446823   \n",
       "3   logistics       no  0.675158         4    high       8      0.440139   \n",
       "4       sales       no  0.676203         3    high       5      0.577607   \n",
       "\n",
       "  bonus  avg_hrs_month left  \n",
       "0    no     180.866070   no  \n",
       "1    no     182.708149   no  \n",
       "2    no     184.416084   no  \n",
       "3    no     188.707545   no  \n",
       "4   yes     179.821083   no  "
      ]
     },
     "execution_count": 10,
     "metadata": {},
     "output_type": "execute_result"
    }
   ],
   "source": [
    "data.info()\n",
    "data.head()"
   ]
  },
  {
   "cell_type": "code",
   "execution_count": 11,
   "id": "720213ea-56fd-4c47-a30b-639c43234d23",
   "metadata": {},
   "outputs": [
    {
     "data": {
      "image/png": "[encoded data removed]",
      "text/plain": [
       "<Figure size 576x288 with 1 Axes>"
      ]
     },
     "metadata": {
      "needs_background": "light"
     },
     "output_type": "display_data"
    }
   ],
   "source": [
    "# left by department\n",
    "# create the summary table of proportions\n",
    "temp = data.groupby(\"department\")[\"left\"].value_counts(normalize=True)\n",
    "temp = pd.DataFrame(temp).reset_index()\n",
    "temp.columns = ['department', 'left', 'prop']\n",
    "temp.prop = temp.prop.mul(100)\n",
    "temp = temp[temp.left == \"yes\"]\n",
    "temp = temp.sort_values(\"prop\", ascending=False).reset_index()\n",
    "\n",
    "# create the x-axis sort order\n",
    "dept_order = list(temp[\"department\"])\n",
    "\n",
    "# plot the turnover rates by department\n",
    "p = sns.catplot(x=\"department\", y=\"prop\", data=temp, order=dept_order, kind=\"bar\", \n",
    "                height=4, aspect=2, saturation=5, palette=\"crest\")\n",
    "p.set_axis_labels(\"Department\", \"Proportion left (%)\")\n",
    "p.fig.subplots_adjust(top=0.9)\n",
    "p.fig.suptitle(\"Proportion of employees who had left\");\n",
    "\n",
    "# extract the matplotlib axes_subplot objects from the FacetGrid\n",
    "ax = p.facet_axis(0,0)\n",
    "# iterate through the axes patches\n",
    "for pat in ax.patches:\n",
    "    ax.text(pat.get_x() + 0.25, \n",
    "            pat.get_height() * 1.02, \n",
    "           '{0:.1f}'.format(pat.get_height()),\n",
    "            color='black', \n",
    "            rotation = 'horizontal', \n",
    "            size = 'medium')"
   ]
  },
  {
   "cell_type": "markdown",
   "id": "20507542-0b43-4a12-9c7e-e2a89dab1946",
   "metadata": {},
   "source": [
    "The overall employee turnover rate was 29.2%, This chart clearly indicated that there were slightly differing rates by department. Finance was the lowest at 26.9% and IT was the highest at 30.9%, closely followed by Logistics at 30.8%"
   ]
  },
  {
   "cell_type": "code",
   "execution_count": 12,
   "id": "588f4eb0-836c-4d42-a8fa-323827f86a92",
   "metadata": {},
   "outputs": [
    {
     "data": {
      "image/png": "[encoded data removed]",
      "text/plain": [
       "<Figure size 720x864 with 3 Axes>"
      ]
     },
     "metadata": {
      "needs_background": "light"
     },
     "output_type": "display_data"
    }
   ],
   "source": [
    "# create the summary tables of proportions\n",
    "temp_p = data.groupby(\"promoted\")[\"left\"].value_counts(normalize=True)\n",
    "temp_p = pd.DataFrame(temp_p).reset_index()\n",
    "temp_p.columns = ['promoted', 'left', 'prop']\n",
    "temp_p.prop = temp_p.prop.mul(100)\n",
    "temp_p = temp_p[temp_p.left == \"yes\"]\n",
    "\n",
    "temp_b = data.groupby(\"bonus\")[\"left\"].value_counts(normalize=True)\n",
    "temp_b = pd.DataFrame(temp_b).reset_index()\n",
    "temp_b.columns = ['bonus', 'left', 'prop']\n",
    "temp_b.prop = temp_b.prop.mul(100)\n",
    "temp_b = temp_b[temp_b.left == \"yes\"]\n",
    "\n",
    "temp_s = data.groupby(\"salary\")[\"left\"].value_counts(normalize=True)\n",
    "temp_s = pd.DataFrame(temp_s).reset_index()\n",
    "temp_s.columns = ['salary', 'left', 'prop']\n",
    "temp_s.prop = temp_s.prop.mul(100)\n",
    "temp_s = temp_s[temp_s.left == \"yes\"]\n",
    "\n",
    "# create the charts\n",
    "fig, axs = plt.subplots(3, 1, figsize=(10,12))\n",
    "\n",
    "p = sns.barplot(x=\"promoted\", y=\"prop\", data=temp_p, saturation=0.5, palette=\"crest\", ax=axs[0])\n",
    "p.set(xlabel=\"Promotion\", ylabel=\"Proportion left (%)\")\n",
    "p.set_xticklabels([\"No\", \"Yes\"])\n",
    "\n",
    "b = sns.barplot(x=\"bonus\", y=\"prop\", data=temp_b, saturation=0.5, palette=\"crest\", ax=axs[1])\n",
    "b.set(xlabel=\"Bonus\", ylabel=\"Proportion left (%)\")\n",
    "b.set_xticklabels([\"No\", \"Yes\"])\n",
    "\n",
    "s = sns.barplot(x=\"salary\", y=\"prop\", data=temp_s, saturation=0.5, palette=\"crest\", ax=axs[2])\n",
    "s.set(xlabel=\"Salary\", ylabel=\"Proportion left (%)\")\n",
    "s.set_xticklabels([\"Low\", \"Medium\", \"High\"])\n",
    "\n",
    "sns.despine()\n",
    "fig.suptitle(\"Proportion of employees who had left by promotion status, bonus status or salary tier\")\n",
    "fig.tight_layout();"
   ]
  },
  {
   "cell_type": "markdown",
   "id": "7b48ef81-56af-4a16-bda0-739f4465b38c",
   "metadata": {},
   "source": [
    "he proportions of employees by turnover status, against whether they had received a promotion or bonus in the last 24 months, and their salary range. The first subplot indicates that a higher proportion of employees had stayed with the organisation if they had received a promotion. However, the second two indicate that whether an employee had received a bonus or not, and what level of salary they received had had no significant impact (non-statistically) on turnover status."
   ]
  },
  {
   "cell_type": "code",
   "execution_count": 13,
   "id": "90c6cd56-7803-4472-9d72-75921472bc23",
   "metadata": {},
   "outputs": [
    {
     "data": {
      "text/html": [
       "<div>\n",
       "<style scoped>\n",
       "    .dataframe tbody tr th:only-of-type {\n",
       "        vertical-align: middle;\n",
       "    }\n",
       "\n",
       "    .dataframe tbody tr th {\n",
       "        vertical-align: top;\n",
       "    }\n",
       "\n",
       "    .dataframe thead th {\n",
       "        text-align: right;\n",
       "    }\n",
       "</style>\n",
       "<table border=\"1\" class=\"dataframe\">\n",
       "  <thead>\n",
       "    <tr style=\"text-align: right;\">\n",
       "      <th></th>\n",
       "      <th>Department</th>\n",
       "      <th>Promoted</th>\n",
       "      <th>Review</th>\n",
       "      <th>Projects</th>\n",
       "      <th>Salary</th>\n",
       "      <th>Tenure</th>\n",
       "      <th>Satisfaction</th>\n",
       "      <th>Bonus</th>\n",
       "      <th>Avg_Hrs_Month</th>\n",
       "      <th>Left</th>\n",
       "    </tr>\n",
       "  </thead>\n",
       "  <tbody>\n",
       "    <tr>\n",
       "      <th>0</th>\n",
       "      <td>Operations</td>\n",
       "      <td>0</td>\n",
       "      <td>0.58</td>\n",
       "      <td>3</td>\n",
       "      <td>1</td>\n",
       "      <td>5.0</td>\n",
       "      <td>0.63</td>\n",
       "      <td>0</td>\n",
       "      <td>180.87</td>\n",
       "      <td>0</td>\n",
       "    </tr>\n",
       "    <tr>\n",
       "      <th>1</th>\n",
       "      <td>Operations</td>\n",
       "      <td>0</td>\n",
       "      <td>0.75</td>\n",
       "      <td>3</td>\n",
       "      <td>2</td>\n",
       "      <td>6.0</td>\n",
       "      <td>0.44</td>\n",
       "      <td>0</td>\n",
       "      <td>182.71</td>\n",
       "      <td>0</td>\n",
       "    </tr>\n",
       "    <tr>\n",
       "      <th>2</th>\n",
       "      <td>Support</td>\n",
       "      <td>0</td>\n",
       "      <td>0.72</td>\n",
       "      <td>3</td>\n",
       "      <td>2</td>\n",
       "      <td>6.0</td>\n",
       "      <td>0.45</td>\n",
       "      <td>0</td>\n",
       "      <td>184.42</td>\n",
       "      <td>0</td>\n",
       "    </tr>\n",
       "    <tr>\n",
       "      <th>3</th>\n",
       "      <td>Logistics</td>\n",
       "      <td>0</td>\n",
       "      <td>0.68</td>\n",
       "      <td>4</td>\n",
       "      <td>3</td>\n",
       "      <td>8.0</td>\n",
       "      <td>0.44</td>\n",
       "      <td>0</td>\n",
       "      <td>188.71</td>\n",
       "      <td>0</td>\n",
       "    </tr>\n",
       "    <tr>\n",
       "      <th>4</th>\n",
       "      <td>Sales</td>\n",
       "      <td>0</td>\n",
       "      <td>0.68</td>\n",
       "      <td>3</td>\n",
       "      <td>3</td>\n",
       "      <td>5.0</td>\n",
       "      <td>0.58</td>\n",
       "      <td>1</td>\n",
       "      <td>179.82</td>\n",
       "      <td>0</td>\n",
       "    </tr>\n",
       "  </tbody>\n",
       "</table>\n",
       "</div>"
      ],
      "text/plain": [
       "   Department  Promoted  Review  Projects  Salary  Tenure  Satisfaction  \\\n",
       "0  Operations         0    0.58         3       1     5.0          0.63   \n",
       "1  Operations         0    0.75         3       2     6.0          0.44   \n",
       "2     Support         0    0.72         3       2     6.0          0.45   \n",
       "3   Logistics         0    0.68         4       3     8.0          0.44   \n",
       "4       Sales         0    0.68         3       3     5.0          0.58   \n",
       "\n",
       "   Bonus  Avg_Hrs_Month  Left  \n",
       "0      0         180.87     0  \n",
       "1      0         182.71     0  \n",
       "2      0         184.42     0  \n",
       "3      0         188.71     0  \n",
       "4      1         179.82     0  "
      ]
     },
     "execution_count": 13,
     "metadata": {},
     "output_type": "execute_result"
    }
   ],
   "source": [
    "#Data Transformation\n",
    "\n",
    "# Changing the columns names to title text\n",
    "df.columns = [i.title() for i in df.columns]\n",
    "\n",
    "# Changing the text feature's values to capitalized text\n",
    "df[['Department','Salary','Left']] = df[['Department','Salary','Left']].apply(lambda x: x.str.capitalize())\n",
    "\n",
    "# Changing Left feature to binary \n",
    "df['Left'] = df['Left'].apply(lambda x: 0 if x == 'No' else 1)\n",
    "\n",
    "# Changing Salary feature to numerical \n",
    "df['Salary'] = df['Salary'].apply(lambda x: 1 if x == 'Low' else (2 if x == 'Medium' else 3))\n",
    "\n",
    "# Rounding Review, Satisfaction and Avg_Hrs_Month\n",
    "df[['Review','Satisfaction','Avg_Hrs_Month']] = df[['Review','Satisfaction','Avg_Hrs_Month']].apply(lambda x: round(x,2))\n",
    "\n",
    "df.head()"
   ]
  },
  {
   "cell_type": "markdown",
   "id": "b30aa69c-8407-4606-a87f-ec72c659edf4",
   "metadata": {},
   "source": [
    "**Exploratory Data Analysis**\n",
    "\n",
    "Getting a better understanding of data\n",
    "\n",
    "Identifying various data patterns\n",
    "\n",
    "Getting a better understanding of the problem statement"
   ]
  },
  {
   "cell_type": "code",
   "execution_count": null,
   "id": "fe4b8840-095c-4847-97bc-f348833a1e36",
   "metadata": {},
   "outputs": [],
   "source": [
    "# Summary statistics\n",
    "df.describe().T"
   ]
  },
  {
   "cell_type": "code",
   "execution_count": null,
   "id": "1c9dd255-7f31-4f1c-bcd1-e8503f24d7c3",
   "metadata": {},
   "outputs": [],
   "source": [
    "# Correlations analysis\n",
    "#plot\n",
    "cmap = sns.color_palette('Greens', as_cmap=True)\n",
    "\n",
    "plt.figure(figsize = (11, 5))\n",
    "sns.heatmap(data = df.corr(), annot = True, cmap = cmap)\n",
    "\n",
    "#customize\n",
    "plt.title('Correlation Heatmap',fontsize = 25, fontweight = 'bold')\n",
    "\n",
    "plt.show()"
   ]
  },
  {
   "cell_type": "markdown",
   "id": "19b3514f-df50-4a4e-891a-b716a04da9c9",
   "metadata": {},
   "source": [
    "Findings from the correlation Matrix and Heatmap\n",
    "\n",
    "Positively Correlated Features: review vs left: 0.3 tenure vs avg_hrs_month: 0.98 \n",
    "\n",
    "Negatively Correlated Features: review vs satisfaction: -0.35\n",
    "\n",
    "Summary\n",
    "\n",
    "From the heatmap, there is a positive(+) correlation between review, left, tenure and avg_hrs_month. \n",
    "\n",
    "This can be interpreted as:\n",
    "\n",
    "The employees decided to leave or stay based on the review they recieved. \n",
    "\n",
    "The avg_hrs_month is definitely high for the employees working for more number of years. \n",
    "\n",
    "For the negative(-) correlation the review and satisfaction are highly correlated. This can be interpreted as:\n",
    "\n",
    "The employees were not satisfied with the reviews they received.\n"
   ]
  },
  {
   "cell_type": "code",
   "execution_count": 27,
   "id": "a6e8688f-7fb3-4b30-a7b1-8eeeac7a2c5a",
   "metadata": {},
   "outputs": [],
   "source": [
    "# Setting Style \n",
    "plt.style.use('seaborn')"
   ]
  },
  {
   "cell_type": "code",
   "execution_count": 28,
   "id": "7ddf9135-812a-432d-94cb-a00ab2970555",
   "metadata": {},
   "outputs": [
    {
     "name": "stderr",
     "output_type": "stream",
     "text": [
      "C:\\Users\\mswaa\\AppData\\Local\\Temp/ipykernel_16568/3104868377.py:5: SettingWithCopyWarning: \n",
      "A value is trying to be set on a copy of a slice from a DataFrame.\n",
      "Try using .loc[row_indexer,col_indexer] = value instead\n",
      "\n",
      "See the caveats in the documentation: https://pandas.pydata.org/pandas-docs/stable/user_guide/indexing.html#returning-a-view-versus-a-copy\n",
      "  tmp['Promoted']=df['Promoted']\n",
      "C:\\Users\\mswaa\\AppData\\Local\\Temp/ipykernel_16568/3104868377.py:6: SettingWithCopyWarning: \n",
      "A value is trying to be set on a copy of a slice from a DataFrame.\n",
      "Try using .loc[row_indexer,col_indexer] = value instead\n",
      "\n",
      "See the caveats in the documentation: https://pandas.pydata.org/pandas-docs/stable/user_guide/indexing.html#returning-a-view-versus-a-copy\n",
      "  tmp['Bonus']=df['Bonus']\n",
      "C:\\Users\\mswaa\\AppData\\Local\\Temp/ipykernel_16568/3104868377.py:7: SettingWithCopyWarning: \n",
      "A value is trying to be set on a copy of a slice from a DataFrame.\n",
      "Try using .loc[row_indexer,col_indexer] = value instead\n",
      "\n",
      "See the caveats in the documentation: https://pandas.pydata.org/pandas-docs/stable/user_guide/indexing.html#returning-a-view-versus-a-copy\n",
      "  tmp['Left']=df['Left']\n",
      "C:\\Users\\mswaa\\anaconda3\\lib\\site-packages\\seaborn\\distributions.py:2619: FutureWarning: `distplot` is a deprecated function and will be removed in a future version. Please adapt your code to use either `displot` (a figure-level function with similar flexibility) or `histplot` (an axes-level function for histograms).\n",
      "  warnings.warn(msg, FutureWarning)\n",
      "C:\\Users\\mswaa\\anaconda3\\lib\\site-packages\\seaborn\\distributions.py:2619: FutureWarning: `distplot` is a deprecated function and will be removed in a future version. Please adapt your code to use either `displot` (a figure-level function with similar flexibility) or `histplot` (an axes-level function for histograms).\n",
      "  warnings.warn(msg, FutureWarning)\n",
      "C:\\Users\\mswaa\\anaconda3\\lib\\site-packages\\seaborn\\distributions.py:2619: FutureWarning: `distplot` is a deprecated function and will be removed in a future version. Please adapt your code to use either `displot` (a figure-level function with similar flexibility) or `histplot` (an axes-level function for histograms).\n",
      "  warnings.warn(msg, FutureWarning)\n",
      "C:\\Users\\mswaa\\anaconda3\\lib\\site-packages\\seaborn\\distributions.py:2619: FutureWarning: `distplot` is a deprecated function and will be removed in a future version. Please adapt your code to use either `displot` (a figure-level function with similar flexibility) or `histplot` (an axes-level function for histograms).\n",
      "  warnings.warn(msg, FutureWarning)\n",
      "C:\\Users\\mswaa\\anaconda3\\lib\\site-packages\\seaborn\\distributions.py:2619: FutureWarning: `distplot` is a deprecated function and will be removed in a future version. Please adapt your code to use either `displot` (a figure-level function with similar flexibility) or `histplot` (an axes-level function for histograms).\n",
      "  warnings.warn(msg, FutureWarning)\n",
      "C:\\Users\\mswaa\\anaconda3\\lib\\site-packages\\seaborn\\distributions.py:2619: FutureWarning: `distplot` is a deprecated function and will be removed in a future version. Please adapt your code to use either `displot` (a figure-level function with similar flexibility) or `histplot` (an axes-level function for histograms).\n",
      "  warnings.warn(msg, FutureWarning)\n",
      "C:\\Users\\mswaa\\anaconda3\\lib\\site-packages\\seaborn\\distributions.py:2619: FutureWarning: `distplot` is a deprecated function and will be removed in a future version. Please adapt your code to use either `displot` (a figure-level function with similar flexibility) or `histplot` (an axes-level function for histograms).\n",
      "  warnings.warn(msg, FutureWarning)\n",
      "C:\\Users\\mswaa\\anaconda3\\lib\\site-packages\\seaborn\\distributions.py:2619: FutureWarning: `distplot` is a deprecated function and will be removed in a future version. Please adapt your code to use either `displot` (a figure-level function with similar flexibility) or `histplot` (an axes-level function for histograms).\n",
      "  warnings.warn(msg, FutureWarning)\n",
      "C:\\Users\\mswaa\\anaconda3\\lib\\site-packages\\seaborn\\distributions.py:2619: FutureWarning: `distplot` is a deprecated function and will be removed in a future version. Please adapt your code to use either `displot` (a figure-level function with similar flexibility) or `histplot` (an axes-level function for histograms).\n",
      "  warnings.warn(msg, FutureWarning)\n"
     ]
    },
    {
     "data": {
      "image/png": "[encoded data removed]",
      "text/plain": [
       "<Figure size 1080x504 with 9 Axes>"
      ]
     },
     "metadata": {},
     "output_type": "display_data"
    }
   ],
   "source": [
    "# (non-binary)\n",
    "\n",
    "#subseting numeric features\n",
    "tmp = df.select_dtypes(include = ['float64', 'int64'])\n",
    "tmp['Promoted']=df['Promoted']\n",
    "tmp['Bonus']=df['Bonus']\n",
    "tmp['Left']=df['Left']\n",
    "\n",
    "# for col, rows in tmp.items(): \n",
    "#     if col in tmp:\n",
    "#         if rows.value_counts().shape[0] == 2:\n",
    "            # del tmp[col]\n",
    "            \n",
    "#plot\n",
    "fig, ax = plt.subplots(3, 3, figsize = (15,7)) \n",
    "\n",
    "sns.distplot(tmp.iloc[:,0], bins=20, hist_kws={'alpha': 0.4}, color='lightgreen', ax = ax[0,0])\n",
    "sns.distplot(tmp.iloc[:,1], bins=20, hist_kws={'alpha': 0.4}, ax = ax[0,1]) \n",
    "sns.distplot(tmp.iloc[:,2], bins=20, hist_kws={'alpha': 0.4}, color='forestgreen', ax = ax[0,2])\n",
    "sns.distplot(tmp.iloc[:,3], bins=20, hist_kws={'alpha': 0.4}, color='firebrick', ax = ax[1,0]) \n",
    "sns.distplot(tmp.iloc[:,4], bins=20, hist_kws={'alpha': 0.4}, color='darkred', ax = ax[1,1])  \n",
    "sns.distplot(tmp.iloc[:,5], bins=20, hist_kws={'alpha': 0.4}, color='darkblue', ax = ax[1,2])\n",
    "sns.distplot(tmp.iloc[:,6], bins=20, hist_kws={'alpha': 0.4}, color='lightgreen', ax = ax[2,0])\n",
    "sns.distplot(tmp.iloc[:,7], bins=20, hist_kws={'alpha': 0.4}, color='forestgreen', ax = ax[2,1])\n",
    "sns.distplot(tmp.iloc[:,8], bins=20, hist_kws={'alpha': 0.4}, color='firebrick', ax = ax[2,2])\n",
    "\n",
    "#customize\n",
    "plt.rcParams['font.family'] = 'Times New Roman'\n",
    "plt.suptitle('Numerical Features Distribution with Distplot', fontsize = 20, fontweight = 'bold') \n",
    "plt.subplots_adjust(left=None, bottom=None, right=None, top=None, wspace=0.4, hspace=None) \n",
    "        \n",
    "plt.tight_layout()"
   ]
  },
  {
   "cell_type": "code",
   "execution_count": 29,
   "id": "f816d3a7-f6c5-4852-b43b-c647b7b975dc",
   "metadata": {},
   "outputs": [
    {
     "data": {
      "text/html": [
       "<div>\n",
       "<style scoped>\n",
       "    .dataframe tbody tr th:only-of-type {\n",
       "        vertical-align: middle;\n",
       "    }\n",
       "\n",
       "    .dataframe tbody tr th {\n",
       "        vertical-align: top;\n",
       "    }\n",
       "\n",
       "    .dataframe thead th {\n",
       "        text-align: right;\n",
       "    }\n",
       "</style>\n",
       "<table border=\"1\" class=\"dataframe\">\n",
       "  <thead>\n",
       "    <tr style=\"text-align: right;\">\n",
       "      <th></th>\n",
       "      <th>Promoted</th>\n",
       "      <th>Review</th>\n",
       "      <th>Projects</th>\n",
       "      <th>Salary</th>\n",
       "      <th>Tenure</th>\n",
       "      <th>Satisfaction</th>\n",
       "      <th>Bonus</th>\n",
       "      <th>Avg_Hrs_Month</th>\n",
       "      <th>Left</th>\n",
       "    </tr>\n",
       "  </thead>\n",
       "  <tbody>\n",
       "    <tr>\n",
       "      <th>0</th>\n",
       "      <td>0</td>\n",
       "      <td>0.58</td>\n",
       "      <td>3</td>\n",
       "      <td>1</td>\n",
       "      <td>5.0</td>\n",
       "      <td>0.63</td>\n",
       "      <td>0</td>\n",
       "      <td>180.87</td>\n",
       "      <td>0</td>\n",
       "    </tr>\n",
       "    <tr>\n",
       "      <th>1</th>\n",
       "      <td>0</td>\n",
       "      <td>0.75</td>\n",
       "      <td>3</td>\n",
       "      <td>2</td>\n",
       "      <td>6.0</td>\n",
       "      <td>0.44</td>\n",
       "      <td>0</td>\n",
       "      <td>182.71</td>\n",
       "      <td>0</td>\n",
       "    </tr>\n",
       "    <tr>\n",
       "      <th>2</th>\n",
       "      <td>0</td>\n",
       "      <td>0.72</td>\n",
       "      <td>3</td>\n",
       "      <td>2</td>\n",
       "      <td>6.0</td>\n",
       "      <td>0.45</td>\n",
       "      <td>0</td>\n",
       "      <td>184.42</td>\n",
       "      <td>0</td>\n",
       "    </tr>\n",
       "    <tr>\n",
       "      <th>3</th>\n",
       "      <td>0</td>\n",
       "      <td>0.68</td>\n",
       "      <td>4</td>\n",
       "      <td>3</td>\n",
       "      <td>8.0</td>\n",
       "      <td>0.44</td>\n",
       "      <td>0</td>\n",
       "      <td>188.71</td>\n",
       "      <td>0</td>\n",
       "    </tr>\n",
       "    <tr>\n",
       "      <th>4</th>\n",
       "      <td>0</td>\n",
       "      <td>0.68</td>\n",
       "      <td>3</td>\n",
       "      <td>3</td>\n",
       "      <td>5.0</td>\n",
       "      <td>0.58</td>\n",
       "      <td>1</td>\n",
       "      <td>179.82</td>\n",
       "      <td>0</td>\n",
       "    </tr>\n",
       "  </tbody>\n",
       "</table>\n",
       "</div>"
      ],
      "text/plain": [
       "   Promoted  Review  Projects  Salary  Tenure  Satisfaction  Bonus  \\\n",
       "0         0    0.58         3       1     5.0          0.63      0   \n",
       "1         0    0.75         3       2     6.0          0.44      0   \n",
       "2         0    0.72         3       2     6.0          0.45      0   \n",
       "3         0    0.68         4       3     8.0          0.44      0   \n",
       "4         0    0.68         3       3     5.0          0.58      1   \n",
       "\n",
       "   Avg_Hrs_Month  Left  \n",
       "0         180.87     0  \n",
       "1         182.71     0  \n",
       "2         184.42     0  \n",
       "3         188.71     0  \n",
       "4         179.82     0  "
      ]
     },
     "execution_count": 29,
     "metadata": {},
     "output_type": "execute_result"
    }
   ],
   "source": [
    "tmp.head()"
   ]
  },
  {
   "cell_type": "code",
   "execution_count": 19,
   "id": "974a741b-68a5-4efb-bec6-2fdc9352ddab",
   "metadata": {},
   "outputs": [],
   "source": [
    "# tmp['Salary']=df['Salary']"
   ]
  },
  {
   "cell_type": "code",
   "execution_count": 20,
   "id": "e75cbd78-af0f-48a4-873a-4e49e9969cee",
   "metadata": {},
   "outputs": [],
   "source": [
    "# tmp['Salary-Low']=tmp['Salary']==1\n",
    "# tmp['Salary-Medium']=tmp['Salary']==2\n",
    "# tmp['Salary-High']=tmp['Salary']==3"
   ]
  },
  {
   "cell_type": "code",
   "execution_count": 21,
   "id": "8eccc7d5-2764-4293-a376-7d8b5564db31",
   "metadata": {},
   "outputs": [],
   "source": [
    "# tmp.head()"
   ]
  },
  {
   "cell_type": "code",
   "execution_count": 22,
   "id": "a073cd2a-adae-4c5f-a531-7b0af44109b7",
   "metadata": {},
   "outputs": [],
   "source": [
    "# del tmp['Salary']"
   ]
  },
  {
   "cell_type": "code",
   "execution_count": 23,
   "id": "254c784d-08a2-4394-9c3e-8c7161be8b24",
   "metadata": {},
   "outputs": [],
   "source": [
    "# tmp.head()"
   ]
  },
  {
   "cell_type": "code",
   "execution_count": 30,
   "id": "09971bc9-e5d6-4d33-ba83-def31b9d5e0e",
   "metadata": {},
   "outputs": [
    {
     "data": {
      "text/plain": [
       "Index(['Promoted', 'Review', 'Projects', 'Salary', 'Tenure', 'Satisfaction',\n",
       "       'Bonus', 'Avg_Hrs_Month', 'Left'],\n",
       "      dtype='object')"
      ]
     },
     "execution_count": 30,
     "metadata": {},
     "output_type": "execute_result"
    }
   ],
   "source": [
    "tmp.columns"
   ]
  },
  {
   "cell_type": "code",
   "execution_count": 31,
   "id": "d9e371d8-9150-4c65-b042-e47dc992690e",
   "metadata": {},
   "outputs": [
    {
     "name": "stdout",
     "output_type": "stream",
     "text": [
      "(9540,)\n"
     ]
    }
   ],
   "source": [
    "y = tmp['Left']\n",
    "y = np.array(y)\n",
    "print(y.shape)"
   ]
  },
  {
   "cell_type": "code",
   "execution_count": 33,
   "id": "4d75fdfa-aa48-4e8b-b4e9-a3634bf7f76a",
   "metadata": {},
   "outputs": [
    {
     "name": "stdout",
     "output_type": "stream",
     "text": [
      "(9540, 8)\n"
     ]
    }
   ],
   "source": [
    "X = tmp[['Promoted', 'Review', 'Projects', 'Tenure', 'Satisfaction', 'Bonus',\n",
    "       'Avg_Hrs_Month', 'Salary']]\n",
    "\n",
    "X = np.array(X).astype(float)\n",
    "print(X.shape)"
   ]
  },
  {
   "cell_type": "code",
   "execution_count": null,
   "id": "40193a4f-9f50-41d1-84db-778f418d748b",
   "metadata": {},
   "outputs": [],
   "source": [
    "# from sklearn.model_selection import train_test_split"
   ]
  },
  {
   "cell_type": "code",
   "execution_count": 34,
   "id": "1857e07c-916f-4234-a59c-b329964b4cca",
   "metadata": {},
   "outputs": [],
   "source": [
    "X=df[['Promoted', 'Review', 'Projects', 'Salary', 'Tenure',\n",
    "       'Satisfaction', 'Bonus', 'Avg_Hrs_Month']]\n",
    "y=df['Left']"
   ]
  },
  {
   "cell_type": "code",
   "execution_count": 35,
   "id": "74319b18",
   "metadata": {},
   "outputs": [
    {
     "name": "stdout",
     "output_type": "stream",
     "text": [
      "(9540, 8)\n",
      "(9540,)\n"
     ]
    }
   ],
   "source": [
    "print(X.shape)\n",
    "print(y.shape)"
   ]
  },
  {
   "cell_type": "code",
   "execution_count": 36,
   "id": "94877174-a211-4ddb-923f-cd637f9e1a9d",
   "metadata": {},
   "outputs": [],
   "source": [
    "X_train, X_test, y_train, y_test = train_test_split(X,y,\n",
    "                                                    test_size=0.2,\n",
    "                                                    random_state=7)"
   ]
  },
  {
   "cell_type": "code",
   "execution_count": 37,
   "id": "ed1ffc0b-801e-4f0e-b0b8-d80c0d69e4dc",
   "metadata": {},
   "outputs": [
    {
     "name": "stdout",
     "output_type": "stream",
     "text": [
      "(7632, 8)\n",
      "(7632,)\n",
      "(1908, 8)\n",
      "(1908,)\n"
     ]
    }
   ],
   "source": [
    "print(X_train.shape)\n",
    "print(y_train.shape)\n",
    "print(X_test.shape)\n",
    "print(y_test.shape)"
   ]
  },
  {
   "cell_type": "code",
   "execution_count": 38,
   "id": "1c953b9d-e874-4937-ab8e-2a4a8297db9b",
   "metadata": {},
   "outputs": [
    {
     "data": {
      "text/html": [
       "<div>\n",
       "<style scoped>\n",
       "    .dataframe tbody tr th:only-of-type {\n",
       "        vertical-align: middle;\n",
       "    }\n",
       "\n",
       "    .dataframe tbody tr th {\n",
       "        vertical-align: top;\n",
       "    }\n",
       "\n",
       "    .dataframe thead th {\n",
       "        text-align: right;\n",
       "    }\n",
       "</style>\n",
       "<table border=\"1\" class=\"dataframe\">\n",
       "  <thead>\n",
       "    <tr style=\"text-align: right;\">\n",
       "      <th></th>\n",
       "      <th>Promoted</th>\n",
       "      <th>Review</th>\n",
       "      <th>Projects</th>\n",
       "      <th>Salary</th>\n",
       "      <th>Tenure</th>\n",
       "      <th>Satisfaction</th>\n",
       "      <th>Bonus</th>\n",
       "      <th>Avg_Hrs_Month</th>\n",
       "    </tr>\n",
       "  </thead>\n",
       "  <tbody>\n",
       "    <tr>\n",
       "      <th>7861</th>\n",
       "      <td>0</td>\n",
       "      <td>0.70</td>\n",
       "      <td>3</td>\n",
       "      <td>2</td>\n",
       "      <td>9.0</td>\n",
       "      <td>0.53</td>\n",
       "      <td>1</td>\n",
       "      <td>193.38</td>\n",
       "    </tr>\n",
       "    <tr>\n",
       "      <th>1791</th>\n",
       "      <td>0</td>\n",
       "      <td>0.68</td>\n",
       "      <td>3</td>\n",
       "      <td>2</td>\n",
       "      <td>5.0</td>\n",
       "      <td>0.58</td>\n",
       "      <td>0</td>\n",
       "      <td>180.60</td>\n",
       "    </tr>\n",
       "    <tr>\n",
       "      <th>9042</th>\n",
       "      <td>0</td>\n",
       "      <td>0.63</td>\n",
       "      <td>3</td>\n",
       "      <td>2</td>\n",
       "      <td>8.0</td>\n",
       "      <td>0.56</td>\n",
       "      <td>1</td>\n",
       "      <td>188.02</td>\n",
       "    </tr>\n",
       "    <tr>\n",
       "      <th>6356</th>\n",
       "      <td>0</td>\n",
       "      <td>0.65</td>\n",
       "      <td>4</td>\n",
       "      <td>2</td>\n",
       "      <td>6.0</td>\n",
       "      <td>0.29</td>\n",
       "      <td>0</td>\n",
       "      <td>183.96</td>\n",
       "    </tr>\n",
       "    <tr>\n",
       "      <th>3492</th>\n",
       "      <td>0</td>\n",
       "      <td>0.79</td>\n",
       "      <td>4</td>\n",
       "      <td>2</td>\n",
       "      <td>6.0</td>\n",
       "      <td>0.32</td>\n",
       "      <td>0</td>\n",
       "      <td>181.94</td>\n",
       "    </tr>\n",
       "  </tbody>\n",
       "</table>\n",
       "</div>"
      ],
      "text/plain": [
       "      Promoted  Review  Projects  Salary  Tenure  Satisfaction  Bonus  \\\n",
       "7861         0    0.70         3       2     9.0          0.53      1   \n",
       "1791         0    0.68         3       2     5.0          0.58      0   \n",
       "9042         0    0.63         3       2     8.0          0.56      1   \n",
       "6356         0    0.65         4       2     6.0          0.29      0   \n",
       "3492         0    0.79         4       2     6.0          0.32      0   \n",
       "\n",
       "      Avg_Hrs_Month  \n",
       "7861         193.38  \n",
       "1791         180.60  \n",
       "9042         188.02  \n",
       "6356         183.96  \n",
       "3492         181.94  "
      ]
     },
     "execution_count": 38,
     "metadata": {},
     "output_type": "execute_result"
    }
   ],
   "source": [
    "X_train.head()"
   ]
  },
  {
   "cell_type": "code",
   "execution_count": 39,
   "id": "ecb4d379-06d7-458a-8f05-ae948119a0e7",
   "metadata": {},
   "outputs": [
    {
     "data": {
      "text/html": [
       "<div>\n",
       "<style scoped>\n",
       "    .dataframe tbody tr th:only-of-type {\n",
       "        vertical-align: middle;\n",
       "    }\n",
       "\n",
       "    .dataframe tbody tr th {\n",
       "        vertical-align: top;\n",
       "    }\n",
       "\n",
       "    .dataframe thead th {\n",
       "        text-align: right;\n",
       "    }\n",
       "</style>\n",
       "<table border=\"1\" class=\"dataframe\">\n",
       "  <thead>\n",
       "    <tr style=\"text-align: right;\">\n",
       "      <th></th>\n",
       "      <th>Promoted</th>\n",
       "      <th>Review</th>\n",
       "      <th>Projects</th>\n",
       "      <th>Salary</th>\n",
       "      <th>Tenure</th>\n",
       "      <th>Satisfaction</th>\n",
       "      <th>Bonus</th>\n",
       "      <th>Avg_Hrs_Month</th>\n",
       "    </tr>\n",
       "  </thead>\n",
       "  <tbody>\n",
       "    <tr>\n",
       "      <th>4483</th>\n",
       "      <td>0</td>\n",
       "      <td>0.79</td>\n",
       "      <td>3</td>\n",
       "      <td>2</td>\n",
       "      <td>5.0</td>\n",
       "      <td>0.20</td>\n",
       "      <td>0</td>\n",
       "      <td>181.30</td>\n",
       "    </tr>\n",
       "    <tr>\n",
       "      <th>4764</th>\n",
       "      <td>0</td>\n",
       "      <td>0.68</td>\n",
       "      <td>3</td>\n",
       "      <td>2</td>\n",
       "      <td>6.0</td>\n",
       "      <td>0.49</td>\n",
       "      <td>0</td>\n",
       "      <td>182.19</td>\n",
       "    </tr>\n",
       "    <tr>\n",
       "      <th>7109</th>\n",
       "      <td>0</td>\n",
       "      <td>0.75</td>\n",
       "      <td>3</td>\n",
       "      <td>2</td>\n",
       "      <td>7.0</td>\n",
       "      <td>0.30</td>\n",
       "      <td>0</td>\n",
       "      <td>187.39</td>\n",
       "    </tr>\n",
       "    <tr>\n",
       "      <th>6212</th>\n",
       "      <td>0</td>\n",
       "      <td>0.62</td>\n",
       "      <td>3</td>\n",
       "      <td>3</td>\n",
       "      <td>8.0</td>\n",
       "      <td>0.36</td>\n",
       "      <td>0</td>\n",
       "      <td>188.89</td>\n",
       "    </tr>\n",
       "    <tr>\n",
       "      <th>7639</th>\n",
       "      <td>0</td>\n",
       "      <td>0.53</td>\n",
       "      <td>3</td>\n",
       "      <td>1</td>\n",
       "      <td>6.0</td>\n",
       "      <td>0.33</td>\n",
       "      <td>0</td>\n",
       "      <td>183.91</td>\n",
       "    </tr>\n",
       "  </tbody>\n",
       "</table>\n",
       "</div>"
      ],
      "text/plain": [
       "      Promoted  Review  Projects  Salary  Tenure  Satisfaction  Bonus  \\\n",
       "4483         0    0.79         3       2     5.0          0.20      0   \n",
       "4764         0    0.68         3       2     6.0          0.49      0   \n",
       "7109         0    0.75         3       2     7.0          0.30      0   \n",
       "6212         0    0.62         3       3     8.0          0.36      0   \n",
       "7639         0    0.53         3       1     6.0          0.33      0   \n",
       "\n",
       "      Avg_Hrs_Month  \n",
       "4483         181.30  \n",
       "4764         182.19  \n",
       "7109         187.39  \n",
       "6212         188.89  \n",
       "7639         183.91  "
      ]
     },
     "execution_count": 39,
     "metadata": {},
     "output_type": "execute_result"
    }
   ],
   "source": [
    "X_test.head()"
   ]
  },
  {
   "cell_type": "code",
   "execution_count": 40,
   "id": "90be74ae-43e4-461d-8091-d7febb150ad0",
   "metadata": {},
   "outputs": [
    {
     "data": {
      "text/plain": [
       "7861    0\n",
       "1791    0\n",
       "9042    1\n",
       "6356    0\n",
       "3492    1\n",
       "Name: Left, dtype: int64"
      ]
     },
     "execution_count": 40,
     "metadata": {},
     "output_type": "execute_result"
    }
   ],
   "source": [
    "y_train.head()"
   ]
  },
  {
   "cell_type": "code",
   "execution_count": 41,
   "id": "09772147-d889-4174-b055-330a1b3d6e11",
   "metadata": {},
   "outputs": [
    {
     "data": {
      "text/plain": [
       "4483    1\n",
       "4764    1\n",
       "7109    0\n",
       "6212    0\n",
       "7639    0\n",
       "Name: Left, dtype: int64"
      ]
     },
     "execution_count": 41,
     "metadata": {},
     "output_type": "execute_result"
    }
   ],
   "source": [
    "y_test.head()"
   ]
  },
  {
   "cell_type": "markdown",
   "id": "6e089f98",
   "metadata": {},
   "source": [
    "# Decision Tree"
   ]
  },
  {
   "cell_type": "code",
   "execution_count": 42,
   "id": "8e66834b-afee-4894-8c98-be6fedbc2ec1",
   "metadata": {},
   "outputs": [
    {
     "data": {
      "text/plain": [
       "DecisionTreeClassifier(min_samples_leaf=5, random_state=100)"
      ]
     },
     "execution_count": 42,
     "metadata": {},
     "output_type": "execute_result"
    }
   ],
   "source": [
    "clf_gini = DecisionTreeClassifier(criterion = \"gini\", random_state = 100,min_samples_leaf=5)\n",
    "clf_gini.fit(X_train, y_train)"
   ]
  },
  {
   "cell_type": "code",
   "execution_count": 43,
   "id": "92f6d5f2",
   "metadata": {},
   "outputs": [],
   "source": [
    "feature_names = ['Promoted', 'Review', 'Projects', 'Salary', 'Tenure',\n",
    "       'Satisfaction', 'Bonus', 'Avg_Hrs_Month']\n",
    "target_name = ['True', 'False']"
   ]
  },
  {
   "cell_type": "code",
   "execution_count": 44,
   "id": "eab8521e",
   "metadata": {},
   "outputs": [
    {
     "data": {
      "image/png": "[encoded data removed]",
      "text/plain": [
       "<Figure size 864x576 with 1 Axes>"
      ]
     },
     "metadata": {},
     "output_type": "display_data"
    }
   ],
   "source": [
    "fig = plt.figure(figsize=(12,8))\n",
    "_ = tree.plot_tree(clf_gini, \n",
    "                   feature_names=feature_names,  \n",
    "                   class_names=target_name,\n",
    "                   max_depth = 1,\n",
    "                   filled=True)\n",
    "\n"
   ]
  },
  {
   "cell_type": "code",
   "execution_count": 45,
   "id": "b18a70ca",
   "metadata": {},
   "outputs": [
    {
     "name": "stdout",
     "output_type": "stream",
     "text": [
      "Elapsed time to compute the importances: 0.000 seconds\n"
     ]
    }
   ],
   "source": [
    "import time\n",
    "import numpy as np\n",
    "\n",
    "start_time = time.time()\n",
    "importances = clf_gini.feature_importances_\n",
    "elapsed_time = time.time() - start_time\n",
    "\n",
    "print(f\"Elapsed time to compute the importances: {elapsed_time:.3f} seconds\")"
   ]
  },
  {
   "cell_type": "code",
   "execution_count": 46,
   "id": "5e837994",
   "metadata": {},
   "outputs": [
    {
     "data": {
      "image/png": "[encoded data removed]",
      "text/plain": [
       "<Figure size 576x396 with 1 Axes>"
      ]
     },
     "metadata": {},
     "output_type": "display_data"
    }
   ],
   "source": [
    "forest_importances = pd.Series(importances, index=feature_names)\n",
    "\n",
    "fig, ax = plt.subplots()\n",
    "forest_importances.plot.bar(ax=ax)\n",
    "ax.set_title(\"The most important variables for predicting employee departure\")\n",
    "ax.set_ylabel(\"\")\n",
    "fig.tight_layout()"
   ]
  },
  {
   "cell_type": "code",
   "execution_count": 47,
   "id": "2ad27bdb",
   "metadata": {},
   "outputs": [
    {
     "data": {
      "text/html": [
       "<div>\n",
       "<style scoped>\n",
       "    .dataframe tbody tr th:only-of-type {\n",
       "        vertical-align: middle;\n",
       "    }\n",
       "\n",
       "    .dataframe tbody tr th {\n",
       "        vertical-align: top;\n",
       "    }\n",
       "\n",
       "    .dataframe thead th {\n",
       "        text-align: right;\n",
       "    }\n",
       "</style>\n",
       "<table border=\"1\" class=\"dataframe\">\n",
       "  <thead>\n",
       "    <tr style=\"text-align: right;\">\n",
       "      <th></th>\n",
       "      <th>Department</th>\n",
       "      <th>Promoted</th>\n",
       "      <th>Review</th>\n",
       "      <th>Projects</th>\n",
       "      <th>Salary</th>\n",
       "      <th>Tenure</th>\n",
       "      <th>Satisfaction</th>\n",
       "      <th>Bonus</th>\n",
       "      <th>Avg_Hrs_Month</th>\n",
       "      <th>Left</th>\n",
       "    </tr>\n",
       "  </thead>\n",
       "  <tbody>\n",
       "    <tr>\n",
       "      <th>3440</th>\n",
       "      <td>Sales</td>\n",
       "      <td>0</td>\n",
       "      <td>0.89</td>\n",
       "      <td>4</td>\n",
       "      <td>2</td>\n",
       "      <td>4.0</td>\n",
       "      <td>0.31</td>\n",
       "      <td>0</td>\n",
       "      <td>177.64</td>\n",
       "      <td>1</td>\n",
       "    </tr>\n",
       "  </tbody>\n",
       "</table>\n",
       "</div>"
      ],
      "text/plain": [
       "     Department  Promoted  Review  Projects  Salary  Tenure  Satisfaction  \\\n",
       "3440      Sales         0    0.89         4       2     4.0          0.31   \n",
       "\n",
       "      Bonus  Avg_Hrs_Month  Left  \n",
       "3440      0         177.64     1  "
      ]
     },
     "execution_count": 47,
     "metadata": {},
     "output_type": "execute_result"
    }
   ],
   "source": [
    "X_sample = df.sample(1, random_state=50)\n",
    "X_sample"
   ]
  },
  {
   "cell_type": "code",
   "execution_count": 48,
   "id": "817caa17",
   "metadata": {},
   "outputs": [
    {
     "data": {
      "text/plain": [
       "array([1], dtype=int64)"
      ]
     },
     "execution_count": 48,
     "metadata": {},
     "output_type": "execute_result"
    }
   ],
   "source": [
    "clf_gini.predict(X_sample[feature_names])"
   ]
  },
  {
   "cell_type": "code",
   "execution_count": 49,
   "id": "cdc0de7f",
   "metadata": {},
   "outputs": [
    {
     "name": "stdout",
     "output_type": "stream",
     "text": [
      "              precision    recall  f1-score   support\n",
      "\n",
      "           0       0.90      0.88      0.89      1396\n",
      "           1       0.69      0.75      0.72       512\n",
      "\n",
      "    accuracy                           0.84      1908\n",
      "   macro avg       0.80      0.81      0.81      1908\n",
      "weighted avg       0.85      0.84      0.85      1908\n",
      "\n"
     ]
    }
   ],
   "source": [
    "print(classification_report(clf_gini.predict(X_test), y_test))"
   ]
  },
  {
   "cell_type": "code",
   "execution_count": null,
   "id": "9ddb9f7d-4554-43c4-bfc7-0dc8383d21a9",
   "metadata": {},
   "outputs": [],
   "source": []
  },
  {
   "cell_type": "code",
   "execution_count": null,
   "id": "e6edf355-f48b-4a96-91ff-4d6ee69167c5",
   "metadata": {},
   "outputs": [],
   "source": []
  }
 ],
 "metadata": {
  "kernelspec": {
   "display_name": "Python 3 (ipykernel)",
   "language": "python",
   "name": "python3"
  },
  "language_info": {
   "codemirror_mode": {
    "name": "ipython",
    "version": 3
   },
   "file_extension": ".py",
   "mimetype": "text/x-python",
   "name": "python",
   "nbconvert_exporter": "python",
   "pygments_lexer": "ipython3",
   "version": "3.9.7"
  }
 },
 "nbformat": 4,
 "nbformat_minor": 5
}
